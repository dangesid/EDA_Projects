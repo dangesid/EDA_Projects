{
 "cells": [
  {
   "cell_type": "code",
   "execution_count": 1,
   "id": "58fa1973",
   "metadata": {
    "execution": {
     "iopub.execute_input": "2024-07-22T20:33:04.426411Z",
     "iopub.status.busy": "2024-07-22T20:33:04.425940Z",
     "iopub.status.idle": "2024-07-22T20:33:06.956480Z",
     "shell.execute_reply": "2024-07-22T20:33:06.955450Z"
    },
    "id": "6DE2bikHfT7u",
    "papermill": {
     "duration": 2.548492,
     "end_time": "2024-07-22T20:33:06.959179",
     "exception": false,
     "start_time": "2024-07-22T20:33:04.410687",
     "status": "completed"
    },
    "tags": []
   },
   "outputs": [],
   "source": [
    "import pandas as pd\n",
    "import numpy as np\n",
    "import matplotlib.pyplot as plt\n",
    "import seaborn as sns"
   ]
  },
  {
   "cell_type": "markdown",
   "id": "f7a2a758",
   "metadata": {
    "id": "4OqnxtkXDec9",
    "papermill": {
     "duration": 0.0126,
     "end_time": "2024-07-22T20:33:06.985337",
     "exception": false,
     "start_time": "2024-07-22T20:33:06.972737",
     "status": "completed"
    },
    "tags": []
   },
   "source": [
    "# Read the Data Set"
   ]
  },
  {
   "cell_type": "code",
   "execution_count": 2,
   "id": "bc92533d",
   "metadata": {
    "execution": {
     "iopub.execute_input": "2024-07-22T20:33:07.013744Z",
     "iopub.status.busy": "2024-07-22T20:33:07.013206Z",
     "iopub.status.idle": "2024-07-22T20:33:08.205879Z",
     "shell.execute_reply": "2024-07-22T20:33:08.204641Z"
    },
    "id": "Co1XCJuKflsF",
    "papermill": {
     "duration": 1.210412,
     "end_time": "2024-07-22T20:33:08.208821",
     "exception": false,
     "start_time": "2024-07-22T20:33:06.998409",
     "status": "completed"
    },
    "tags": []
   },
   "outputs": [],
   "source": [
    "df = pd.read_csv(\"/kaggle/input/electric-vehicle-population-dataset/Electric_Vehicle_Population_Data.csv\")"
   ]
  },
  {
   "cell_type": "code",
   "execution_count": 3,
   "id": "6911b346",
   "metadata": {
    "execution": {
     "iopub.execute_input": "2024-07-22T20:33:08.238506Z",
     "iopub.status.busy": "2024-07-22T20:33:08.238043Z",
     "iopub.status.idle": "2024-07-22T20:33:08.269852Z",
     "shell.execute_reply": "2024-07-22T20:33:08.268682Z"
    },
    "id": "QTauDotcfqnn",
    "outputId": "c7775fa3-6ad7-4462-bdb5-56e6d6d1a952",
    "papermill": {
     "duration": 0.049616,
     "end_time": "2024-07-22T20:33:08.272199",
     "exception": false,
     "start_time": "2024-07-22T20:33:08.222583",
     "status": "completed"
    },
    "tags": []
   },
   "outputs": [
    {
     "data": {
      "text/html": [
       "<div>\n",
       "<style scoped>\n",
       "    .dataframe tbody tr th:only-of-type {\n",
       "        vertical-align: middle;\n",
       "    }\n",
       "\n",
       "    .dataframe tbody tr th {\n",
       "        vertical-align: top;\n",
       "    }\n",
       "\n",
       "    .dataframe thead th {\n",
       "        text-align: right;\n",
       "    }\n",
       "</style>\n",
       "<table border=\"1\" class=\"dataframe\">\n",
       "  <thead>\n",
       "    <tr style=\"text-align: right;\">\n",
       "      <th></th>\n",
       "      <th>VIN (1-10)</th>\n",
       "      <th>County</th>\n",
       "      <th>City</th>\n",
       "      <th>State</th>\n",
       "      <th>Postal Code</th>\n",
       "      <th>Model Year</th>\n",
       "      <th>Make</th>\n",
       "      <th>Model</th>\n",
       "      <th>Electric Vehicle Type</th>\n",
       "      <th>Clean Alternative Fuel Vehicle (CAFV) Eligibility</th>\n",
       "      <th>Electric Range</th>\n",
       "      <th>Base MSRP</th>\n",
       "      <th>Legislative District</th>\n",
       "      <th>DOL Vehicle ID</th>\n",
       "      <th>Vehicle Location</th>\n",
       "      <th>Electric Utility</th>\n",
       "      <th>2020 Census Tract</th>\n",
       "    </tr>\n",
       "  </thead>\n",
       "  <tbody>\n",
       "    <tr>\n",
       "      <th>0</th>\n",
       "      <td>5YJSA1E22K</td>\n",
       "      <td>King</td>\n",
       "      <td>Seattle</td>\n",
       "      <td>WA</td>\n",
       "      <td>98112.0</td>\n",
       "      <td>2019</td>\n",
       "      <td>TESLA</td>\n",
       "      <td>MODEL S</td>\n",
       "      <td>Battery Electric Vehicle (BEV)</td>\n",
       "      <td>Clean Alternative Fuel Vehicle Eligible</td>\n",
       "      <td>270</td>\n",
       "      <td>0</td>\n",
       "      <td>43.0</td>\n",
       "      <td>202233958</td>\n",
       "      <td>POINT (-122.300312 47.629782)</td>\n",
       "      <td>CITY OF SEATTLE - (WA)|CITY OF TACOMA - (WA)</td>\n",
       "      <td>5.303301e+10</td>\n",
       "    </tr>\n",
       "    <tr>\n",
       "      <th>1</th>\n",
       "      <td>3MW39FS05R</td>\n",
       "      <td>Yakima</td>\n",
       "      <td>Zillah</td>\n",
       "      <td>WA</td>\n",
       "      <td>98953.0</td>\n",
       "      <td>2024</td>\n",
       "      <td>BMW</td>\n",
       "      <td>330E</td>\n",
       "      <td>Plug-in Hybrid Electric Vehicle (PHEV)</td>\n",
       "      <td>Not eligible due to low battery range</td>\n",
       "      <td>20</td>\n",
       "      <td>0</td>\n",
       "      <td>15.0</td>\n",
       "      <td>264425178</td>\n",
       "      <td>POINT (-120.2658133 46.4063477)</td>\n",
       "      <td>PACIFICORP</td>\n",
       "      <td>5.307700e+10</td>\n",
       "    </tr>\n",
       "    <tr>\n",
       "      <th>2</th>\n",
       "      <td>1N4AZ0CP0F</td>\n",
       "      <td>King</td>\n",
       "      <td>Kent</td>\n",
       "      <td>WA</td>\n",
       "      <td>98031.0</td>\n",
       "      <td>2015</td>\n",
       "      <td>NISSAN</td>\n",
       "      <td>LEAF</td>\n",
       "      <td>Battery Electric Vehicle (BEV)</td>\n",
       "      <td>Clean Alternative Fuel Vehicle Eligible</td>\n",
       "      <td>84</td>\n",
       "      <td>0</td>\n",
       "      <td>11.0</td>\n",
       "      <td>114962025</td>\n",
       "      <td>POINT (-122.201564 47.402358)</td>\n",
       "      <td>PUGET SOUND ENERGY INC||CITY OF TACOMA - (WA)</td>\n",
       "      <td>5.303303e+10</td>\n",
       "    </tr>\n",
       "    <tr>\n",
       "      <th>3</th>\n",
       "      <td>5YJSA1H20F</td>\n",
       "      <td>Snohomish</td>\n",
       "      <td>Bothell</td>\n",
       "      <td>WA</td>\n",
       "      <td>98012.0</td>\n",
       "      <td>2015</td>\n",
       "      <td>TESLA</td>\n",
       "      <td>MODEL S</td>\n",
       "      <td>Battery Electric Vehicle (BEV)</td>\n",
       "      <td>Clean Alternative Fuel Vehicle Eligible</td>\n",
       "      <td>208</td>\n",
       "      <td>0</td>\n",
       "      <td>1.0</td>\n",
       "      <td>232724670</td>\n",
       "      <td>POINT (-122.206146 47.839957)</td>\n",
       "      <td>PUGET SOUND ENERGY INC</td>\n",
       "      <td>5.306105e+10</td>\n",
       "    </tr>\n",
       "    <tr>\n",
       "      <th>4</th>\n",
       "      <td>JTMAB3FV1N</td>\n",
       "      <td>Yakima</td>\n",
       "      <td>Yakima</td>\n",
       "      <td>WA</td>\n",
       "      <td>98908.0</td>\n",
       "      <td>2022</td>\n",
       "      <td>TOYOTA</td>\n",
       "      <td>RAV4 PRIME</td>\n",
       "      <td>Plug-in Hybrid Electric Vehicle (PHEV)</td>\n",
       "      <td>Clean Alternative Fuel Vehicle Eligible</td>\n",
       "      <td>42</td>\n",
       "      <td>0</td>\n",
       "      <td>14.0</td>\n",
       "      <td>221023589</td>\n",
       "      <td>POINT (-120.611068 46.596645)</td>\n",
       "      <td>PACIFICORP</td>\n",
       "      <td>5.307700e+10</td>\n",
       "    </tr>\n",
       "  </tbody>\n",
       "</table>\n",
       "</div>"
      ],
      "text/plain": [
       "   VIN (1-10)     County     City State  Postal Code  Model Year    Make  \\\n",
       "0  5YJSA1E22K       King  Seattle    WA      98112.0        2019   TESLA   \n",
       "1  3MW39FS05R     Yakima   Zillah    WA      98953.0        2024     BMW   \n",
       "2  1N4AZ0CP0F       King     Kent    WA      98031.0        2015  NISSAN   \n",
       "3  5YJSA1H20F  Snohomish  Bothell    WA      98012.0        2015   TESLA   \n",
       "4  JTMAB3FV1N     Yakima   Yakima    WA      98908.0        2022  TOYOTA   \n",
       "\n",
       "        Model                   Electric Vehicle Type  \\\n",
       "0     MODEL S          Battery Electric Vehicle (BEV)   \n",
       "1        330E  Plug-in Hybrid Electric Vehicle (PHEV)   \n",
       "2        LEAF          Battery Electric Vehicle (BEV)   \n",
       "3     MODEL S          Battery Electric Vehicle (BEV)   \n",
       "4  RAV4 PRIME  Plug-in Hybrid Electric Vehicle (PHEV)   \n",
       "\n",
       "  Clean Alternative Fuel Vehicle (CAFV) Eligibility  Electric Range  \\\n",
       "0           Clean Alternative Fuel Vehicle Eligible             270   \n",
       "1             Not eligible due to low battery range              20   \n",
       "2           Clean Alternative Fuel Vehicle Eligible              84   \n",
       "3           Clean Alternative Fuel Vehicle Eligible             208   \n",
       "4           Clean Alternative Fuel Vehicle Eligible              42   \n",
       "\n",
       "   Base MSRP  Legislative District  DOL Vehicle ID  \\\n",
       "0          0                  43.0       202233958   \n",
       "1          0                  15.0       264425178   \n",
       "2          0                  11.0       114962025   \n",
       "3          0                   1.0       232724670   \n",
       "4          0                  14.0       221023589   \n",
       "\n",
       "                  Vehicle Location  \\\n",
       "0    POINT (-122.300312 47.629782)   \n",
       "1  POINT (-120.2658133 46.4063477)   \n",
       "2    POINT (-122.201564 47.402358)   \n",
       "3    POINT (-122.206146 47.839957)   \n",
       "4    POINT (-120.611068 46.596645)   \n",
       "\n",
       "                                Electric Utility  2020 Census Tract  \n",
       "0   CITY OF SEATTLE - (WA)|CITY OF TACOMA - (WA)       5.303301e+10  \n",
       "1                                     PACIFICORP       5.307700e+10  \n",
       "2  PUGET SOUND ENERGY INC||CITY OF TACOMA - (WA)       5.303303e+10  \n",
       "3                         PUGET SOUND ENERGY INC       5.306105e+10  \n",
       "4                                     PACIFICORP       5.307700e+10  "
      ]
     },
     "execution_count": 3,
     "metadata": {},
     "output_type": "execute_result"
    }
   ],
   "source": [
    "df.head()"
   ]
  },
  {
   "cell_type": "code",
   "execution_count": 4,
   "id": "4e1f81e5",
   "metadata": {
    "execution": {
     "iopub.execute_input": "2024-07-22T20:33:08.300326Z",
     "iopub.status.busy": "2024-07-22T20:33:08.299929Z",
     "iopub.status.idle": "2024-07-22T20:33:08.419110Z",
     "shell.execute_reply": "2024-07-22T20:33:08.417691Z"
    },
    "id": "ZDmBAvqVfrlb",
    "outputId": "df64387a-9f95-4acc-8b45-1962c943b8b4",
    "papermill": {
     "duration": 0.13683,
     "end_time": "2024-07-22T20:33:08.422268",
     "exception": false,
     "start_time": "2024-07-22T20:33:08.285438",
     "status": "completed"
    },
    "tags": []
   },
   "outputs": [
    {
     "name": "stdout",
     "output_type": "stream",
     "text": [
      "<class 'pandas.core.frame.DataFrame'>\n",
      "RangeIndex: 191407 entries, 0 to 191406\n",
      "Data columns (total 17 columns):\n",
      " #   Column                                             Non-Null Count   Dtype  \n",
      "---  ------                                             --------------   -----  \n",
      " 0   VIN (1-10)                                         191407 non-null  object \n",
      " 1   County                                             191403 non-null  object \n",
      " 2   City                                               191403 non-null  object \n",
      " 3   State                                              191407 non-null  object \n",
      " 4   Postal Code                                        191403 non-null  float64\n",
      " 5   Model Year                                         191407 non-null  int64  \n",
      " 6   Make                                               191407 non-null  object \n",
      " 7   Model                                              191407 non-null  object \n",
      " 8   Electric Vehicle Type                              191407 non-null  object \n",
      " 9   Clean Alternative Fuel Vehicle (CAFV) Eligibility  191407 non-null  object \n",
      " 10  Electric Range                                     191407 non-null  int64  \n",
      " 11  Base MSRP                                          191407 non-null  int64  \n",
      " 12  Legislative District                               190993 non-null  float64\n",
      " 13  DOL Vehicle ID                                     191407 non-null  int64  \n",
      " 14  Vehicle Location                                   191399 non-null  object \n",
      " 15  Electric Utility                                   191403 non-null  object \n",
      " 16  2020 Census Tract                                  191403 non-null  float64\n",
      "dtypes: float64(3), int64(4), object(10)\n",
      "memory usage: 24.8+ MB\n"
     ]
    }
   ],
   "source": [
    "df.info()"
   ]
  },
  {
   "cell_type": "code",
   "execution_count": 5,
   "id": "a44a7848",
   "metadata": {
    "execution": {
     "iopub.execute_input": "2024-07-22T20:33:08.451441Z",
     "iopub.status.busy": "2024-07-22T20:33:08.451035Z",
     "iopub.status.idle": "2024-07-22T20:33:08.458369Z",
     "shell.execute_reply": "2024-07-22T20:33:08.457133Z"
    },
    "id": "mMem5JpXgFNQ",
    "outputId": "6b21bc98-6f4f-4876-f279-1705ec380357",
    "papermill": {
     "duration": 0.024845,
     "end_time": "2024-07-22T20:33:08.460832",
     "exception": false,
     "start_time": "2024-07-22T20:33:08.435987",
     "status": "completed"
    },
    "tags": []
   },
   "outputs": [
    {
     "data": {
      "text/plain": [
       "Index(['VIN (1-10)', 'County', 'City', 'State', 'Postal Code', 'Model Year',\n",
       "       'Make', 'Model', 'Electric Vehicle Type',\n",
       "       'Clean Alternative Fuel Vehicle (CAFV) Eligibility', 'Electric Range',\n",
       "       'Base MSRP', 'Legislative District', 'DOL Vehicle ID',\n",
       "       'Vehicle Location', 'Electric Utility', '2020 Census Tract'],\n",
       "      dtype='object')"
      ]
     },
     "execution_count": 5,
     "metadata": {},
     "output_type": "execute_result"
    }
   ],
   "source": [
    "df.columns"
   ]
  },
  {
   "cell_type": "code",
   "execution_count": 6,
   "id": "964db92d",
   "metadata": {
    "execution": {
     "iopub.execute_input": "2024-07-22T20:33:08.491640Z",
     "iopub.status.busy": "2024-07-22T20:33:08.491271Z",
     "iopub.status.idle": "2024-07-22T20:33:08.588230Z",
     "shell.execute_reply": "2024-07-22T20:33:08.587179Z"
    },
    "id": "lvgllSR1gHAp",
    "outputId": "1bf004b5-c9e2-4198-d58f-426f21272856",
    "papermill": {
     "duration": 0.115924,
     "end_time": "2024-07-22T20:33:08.590600",
     "exception": false,
     "start_time": "2024-07-22T20:33:08.474676",
     "status": "completed"
    },
    "tags": []
   },
   "outputs": [
    {
     "data": {
      "text/plain": [
       "VIN (1-10)                                             0\n",
       "County                                                 4\n",
       "City                                                   4\n",
       "State                                                  0\n",
       "Postal Code                                            4\n",
       "Model Year                                             0\n",
       "Make                                                   0\n",
       "Model                                                  0\n",
       "Electric Vehicle Type                                  0\n",
       "Clean Alternative Fuel Vehicle (CAFV) Eligibility      0\n",
       "Electric Range                                         0\n",
       "Base MSRP                                              0\n",
       "Legislative District                                 414\n",
       "DOL Vehicle ID                                         0\n",
       "Vehicle Location                                       8\n",
       "Electric Utility                                       4\n",
       "2020 Census Tract                                      4\n",
       "dtype: int64"
      ]
     },
     "execution_count": 6,
     "metadata": {},
     "output_type": "execute_result"
    }
   ],
   "source": [
    "df.isnull().sum()"
   ]
  },
  {
   "cell_type": "code",
   "execution_count": 7,
   "id": "492f1c2e",
   "metadata": {
    "execution": {
     "iopub.execute_input": "2024-07-22T20:33:08.620055Z",
     "iopub.status.busy": "2024-07-22T20:33:08.619705Z",
     "iopub.status.idle": "2024-07-22T20:33:08.626769Z",
     "shell.execute_reply": "2024-07-22T20:33:08.625635Z"
    },
    "id": "ADj0-m2OiJpZ",
    "outputId": "d642b596-328c-45e3-9f96-69cc3c00ef02",
    "papermill": {
     "duration": 0.024337,
     "end_time": "2024-07-22T20:33:08.629111",
     "exception": false,
     "start_time": "2024-07-22T20:33:08.604774",
     "status": "completed"
    },
    "tags": []
   },
   "outputs": [
    {
     "data": {
      "text/plain": [
       "(191407, 17)"
      ]
     },
     "execution_count": 7,
     "metadata": {},
     "output_type": "execute_result"
    }
   ],
   "source": [
    "df.shape"
   ]
  },
  {
   "cell_type": "markdown",
   "id": "84abc22e",
   "metadata": {
    "id": "X1Yk_PuKiDiX",
    "papermill": {
     "duration": 0.014406,
     "end_time": "2024-07-22T20:33:08.657798",
     "exception": false,
     "start_time": "2024-07-22T20:33:08.643392",
     "status": "completed"
    },
    "tags": []
   },
   "source": [
    "# Handle Outliers"
   ]
  },
  {
   "cell_type": "code",
   "execution_count": 8,
   "id": "7edf55b3",
   "metadata": {
    "execution": {
     "iopub.execute_input": "2024-07-22T20:33:08.687300Z",
     "iopub.status.busy": "2024-07-22T20:33:08.686866Z",
     "iopub.status.idle": "2024-07-22T20:33:08.692798Z",
     "shell.execute_reply": "2024-07-22T20:33:08.691728Z"
    },
    "id": "neYtk7CmgLPT",
    "papermill": {
     "duration": 0.023724,
     "end_time": "2024-07-22T20:33:08.695297",
     "exception": false,
     "start_time": "2024-07-22T20:33:08.671573",
     "status": "completed"
    },
    "tags": []
   },
   "outputs": [],
   "source": [
    "# Outliers can only be in the columns which have int or float dtype\n",
    "df_float = df.select_dtypes(include=\"float64\").columns"
   ]
  },
  {
   "cell_type": "code",
   "execution_count": 9,
   "id": "ff2c53be",
   "metadata": {
    "execution": {
     "iopub.execute_input": "2024-07-22T20:33:08.725545Z",
     "iopub.status.busy": "2024-07-22T20:33:08.725062Z",
     "iopub.status.idle": "2024-07-22T20:33:08.732616Z",
     "shell.execute_reply": "2024-07-22T20:33:08.731534Z"
    },
    "id": "6Sb9XOpJimoo",
    "outputId": "b82b3be5-f082-4d66-adf8-f2096e0c9c43",
    "papermill": {
     "duration": 0.025369,
     "end_time": "2024-07-22T20:33:08.734868",
     "exception": false,
     "start_time": "2024-07-22T20:33:08.709499",
     "status": "completed"
    },
    "tags": []
   },
   "outputs": [
    {
     "data": {
      "text/plain": [
       "Index(['Postal Code', 'Legislative District', '2020 Census Tract'], dtype='object')"
      ]
     },
     "execution_count": 9,
     "metadata": {},
     "output_type": "execute_result"
    }
   ],
   "source": [
    "df_float"
   ]
  },
  {
   "cell_type": "code",
   "execution_count": 10,
   "id": "f9aefc02",
   "metadata": {
    "execution": {
     "iopub.execute_input": "2024-07-22T20:33:08.765218Z",
     "iopub.status.busy": "2024-07-22T20:33:08.764804Z",
     "iopub.status.idle": "2024-07-22T20:33:08.915975Z",
     "shell.execute_reply": "2024-07-22T20:33:08.914743Z"
    },
    "id": "7RwR8LOyjPYK",
    "outputId": "9d9edcc5-4b56-435f-841a-6975a1905476",
    "papermill": {
     "duration": 0.169837,
     "end_time": "2024-07-22T20:33:08.918521",
     "exception": false,
     "start_time": "2024-07-22T20:33:08.748684",
     "status": "completed"
    },
    "tags": []
   },
   "outputs": [
    {
     "name": "stdout",
     "output_type": "stream",
     "text": [
      "11888 (191407, 17)\n",
      "0 (191407, 17)\n",
      "465 (191407, 17)\n"
     ]
    }
   ],
   "source": [
    "for i in df_float:\n",
    "    q1 = df[i].quantile(0.25)\n",
    "    q3 = df[i].quantile(0.75)\n",
    "\n",
    "    iqr = q3 - q1\n",
    "\n",
    "    lower_bound = q1 - 1.5*(iqr)\n",
    "    upper_bound = q3 + 1.5 * (iqr)\n",
    "\n",
    "    outliers = df[(df[i]<lower_bound) | (df[i] > upper_bound)]\n",
    "    data_clean = df[~df.index.isin(outliers.index)]\n",
    "    print(len(outliers),df.shape)"
   ]
  },
  {
   "cell_type": "code",
   "execution_count": 11,
   "id": "6bb302fe",
   "metadata": {
    "execution": {
     "iopub.execute_input": "2024-07-22T20:33:08.948494Z",
     "iopub.status.busy": "2024-07-22T20:33:08.947998Z",
     "iopub.status.idle": "2024-07-22T20:33:08.955092Z",
     "shell.execute_reply": "2024-07-22T20:33:08.953953Z"
    },
    "id": "5WbDyPA-jtio",
    "outputId": "52e2537b-5258-4285-940c-70bf98d022bd",
    "papermill": {
     "duration": 0.024392,
     "end_time": "2024-07-22T20:33:08.957348",
     "exception": false,
     "start_time": "2024-07-22T20:33:08.932956",
     "status": "completed"
    },
    "tags": []
   },
   "outputs": [
    {
     "data": {
      "text/plain": [
       "(191407, 17)"
      ]
     },
     "execution_count": 11,
     "metadata": {},
     "output_type": "execute_result"
    }
   ],
   "source": [
    "df.shape"
   ]
  },
  {
   "cell_type": "code",
   "execution_count": 12,
   "id": "4b2669d4",
   "metadata": {
    "execution": {
     "iopub.execute_input": "2024-07-22T20:33:08.987035Z",
     "iopub.status.busy": "2024-07-22T20:33:08.986656Z",
     "iopub.status.idle": "2024-07-22T20:33:09.084061Z",
     "shell.execute_reply": "2024-07-22T20:33:09.082987Z"
    },
    "id": "Do-mF_fgkYe-",
    "outputId": "44757daf-b8f9-45d6-f778-49cc57b0d249",
    "papermill": {
     "duration": 0.11536,
     "end_time": "2024-07-22T20:33:09.086628",
     "exception": false,
     "start_time": "2024-07-22T20:33:08.971268",
     "status": "completed"
    },
    "tags": []
   },
   "outputs": [
    {
     "data": {
      "text/plain": [
       "VIN (1-10)                                             0\n",
       "County                                                 4\n",
       "City                                                   4\n",
       "State                                                  0\n",
       "Postal Code                                            4\n",
       "Model Year                                             0\n",
       "Make                                                   0\n",
       "Model                                                  0\n",
       "Electric Vehicle Type                                  0\n",
       "Clean Alternative Fuel Vehicle (CAFV) Eligibility      0\n",
       "Electric Range                                         0\n",
       "Base MSRP                                              0\n",
       "Legislative District                                 414\n",
       "DOL Vehicle ID                                         0\n",
       "Vehicle Location                                       8\n",
       "Electric Utility                                       4\n",
       "2020 Census Tract                                      4\n",
       "dtype: int64"
      ]
     },
     "execution_count": 12,
     "metadata": {},
     "output_type": "execute_result"
    }
   ],
   "source": [
    "df.isnull().sum()"
   ]
  },
  {
   "cell_type": "markdown",
   "id": "1b6ded7d",
   "metadata": {
    "id": "0xhdABLMrDiX",
    "papermill": {
     "duration": 0.013911,
     "end_time": "2024-07-22T20:33:09.114653",
     "exception": false,
     "start_time": "2024-07-22T20:33:09.100742",
     "status": "completed"
    },
    "tags": []
   },
   "source": [
    "# Handling Missing Values"
   ]
  },
  {
   "cell_type": "code",
   "execution_count": 13,
   "id": "de942183",
   "metadata": {
    "execution": {
     "iopub.execute_input": "2024-07-22T20:33:09.144908Z",
     "iopub.status.busy": "2024-07-22T20:33:09.144546Z",
     "iopub.status.idle": "2024-07-22T20:33:09.241980Z",
     "shell.execute_reply": "2024-07-22T20:33:09.240750Z"
    },
    "id": "l4uclL_9npWD",
    "papermill": {
     "duration": 0.115635,
     "end_time": "2024-07-22T20:33:09.244806",
     "exception": false,
     "start_time": "2024-07-22T20:33:09.129171",
     "status": "completed"
    },
    "tags": []
   },
   "outputs": [],
   "source": [
    "df_with_null_values = []\n",
    "for i in df.columns:\n",
    "    if df[i].isnull().sum() != 0:\n",
    "        df_with_null_values.append(i)"
   ]
  },
  {
   "cell_type": "code",
   "execution_count": 14,
   "id": "905367e1",
   "metadata": {
    "execution": {
     "iopub.execute_input": "2024-07-22T20:33:09.274931Z",
     "iopub.status.busy": "2024-07-22T20:33:09.274179Z",
     "iopub.status.idle": "2024-07-22T20:33:09.280837Z",
     "shell.execute_reply": "2024-07-22T20:33:09.279751Z"
    },
    "id": "ZYDglce4nuSS",
    "outputId": "37431edc-52d3-4538-cd24-64ce9795ab11",
    "papermill": {
     "duration": 0.02429,
     "end_time": "2024-07-22T20:33:09.283108",
     "exception": false,
     "start_time": "2024-07-22T20:33:09.258818",
     "status": "completed"
    },
    "tags": []
   },
   "outputs": [
    {
     "data": {
      "text/plain": [
       "['County',\n",
       " 'City',\n",
       " 'Postal Code',\n",
       " 'Legislative District',\n",
       " 'Vehicle Location',\n",
       " 'Electric Utility',\n",
       " '2020 Census Tract']"
      ]
     },
     "execution_count": 14,
     "metadata": {},
     "output_type": "execute_result"
    }
   ],
   "source": [
    "df_with_null_values"
   ]
  },
  {
   "cell_type": "code",
   "execution_count": 15,
   "id": "504492f3",
   "metadata": {
    "execution": {
     "iopub.execute_input": "2024-07-22T20:33:09.313968Z",
     "iopub.status.busy": "2024-07-22T20:33:09.313018Z",
     "iopub.status.idle": "2024-07-22T20:33:09.599600Z",
     "shell.execute_reply": "2024-07-22T20:33:09.597876Z"
    },
    "id": "uyx5a2qNnuLl",
    "outputId": "fd7c23c5-ede6-4d47-853b-2de1b1fae1b1",
    "papermill": {
     "duration": 0.30434,
     "end_time": "2024-07-22T20:33:09.602010",
     "exception": false,
     "start_time": "2024-07-22T20:33:09.297670",
     "status": "completed"
    },
    "tags": []
   },
   "outputs": [
    {
     "name": "stdout",
     "output_type": "stream",
     "text": [
      "0    King\n",
      "Name: County, dtype: object\n",
      "0    Seattle\n",
      "Name: City, dtype: object\n",
      "0    98052.0\n",
      "Name: Postal Code, dtype: float64\n",
      "0    41.0\n",
      "Name: Legislative District, dtype: float64\n",
      "0    POINT (-122.1207376 47.6705374)\n",
      "Name: Vehicle Location, dtype: object\n",
      "0    PUGET SOUND ENERGY INC||CITY OF TACOMA - (WA)\n",
      "Name: Electric Utility, dtype: object\n",
      "0    5.303303e+10\n",
      "Name: 2020 Census Tract, dtype: float64\n"
     ]
    },
    {
     "name": "stderr",
     "output_type": "stream",
     "text": [
      "/tmp/ipykernel_18/3272369127.py:6: FutureWarning: A value is trying to be set on a copy of a DataFrame or Series through chained assignment using an inplace method.\n",
      "The behavior will change in pandas 3.0. This inplace method will never work because the intermediate object on which we are setting values always behaves as a copy.\n",
      "\n",
      "For example, when doing 'df[col].method(value, inplace=True)', try using 'df.method({col: value}, inplace=True)' or df[col] = df[col].method(value) instead, to perform the operation inplace on the original object.\n",
      "\n",
      "\n",
      "  df[i].fillna(mode[0],inplace=True)\n"
     ]
    },
    {
     "data": {
      "text/plain": [
       "VIN (1-10)                                           0\n",
       "County                                               0\n",
       "City                                                 0\n",
       "State                                                0\n",
       "Postal Code                                          0\n",
       "Model Year                                           0\n",
       "Make                                                 0\n",
       "Model                                                0\n",
       "Electric Vehicle Type                                0\n",
       "Clean Alternative Fuel Vehicle (CAFV) Eligibility    0\n",
       "Electric Range                                       0\n",
       "Base MSRP                                            0\n",
       "Legislative District                                 0\n",
       "DOL Vehicle ID                                       0\n",
       "Vehicle Location                                     0\n",
       "Electric Utility                                     0\n",
       "2020 Census Tract                                    0\n",
       "dtype: int64"
      ]
     },
     "execution_count": 15,
     "metadata": {},
     "output_type": "execute_result"
    }
   ],
   "source": [
    "# Replacing the null values with mode values of every columns\n",
    "for i in df_with_null_values:\n",
    "    mode = df[i].mode()\n",
    "    print(mode)\n",
    "for i in df:\n",
    "    df[i].fillna(mode[0],inplace=True)\n",
    "df.isnull().sum()"
   ]
  },
  {
   "cell_type": "code",
   "execution_count": 16,
   "id": "5095f5ea",
   "metadata": {
    "execution": {
     "iopub.execute_input": "2024-07-22T20:33:09.634268Z",
     "iopub.status.busy": "2024-07-22T20:33:09.633832Z",
     "iopub.status.idle": "2024-07-22T20:33:09.734842Z",
     "shell.execute_reply": "2024-07-22T20:33:09.733406Z"
    },
    "id": "a2-OeocjnhSY",
    "outputId": "9cd3a0f6-718c-42fb-8d43-97259c6e77df",
    "papermill": {
     "duration": 0.120063,
     "end_time": "2024-07-22T20:33:09.737324",
     "exception": false,
     "start_time": "2024-07-22T20:33:09.617261",
     "status": "completed"
    },
    "tags": []
   },
   "outputs": [
    {
     "name": "stdout",
     "output_type": "stream",
     "text": [
      "<class 'pandas.core.frame.DataFrame'>\n",
      "RangeIndex: 191407 entries, 0 to 191406\n",
      "Data columns (total 17 columns):\n",
      " #   Column                                             Non-Null Count   Dtype  \n",
      "---  ------                                             --------------   -----  \n",
      " 0   VIN (1-10)                                         191407 non-null  object \n",
      " 1   County                                             191407 non-null  object \n",
      " 2   City                                               191407 non-null  object \n",
      " 3   State                                              191407 non-null  object \n",
      " 4   Postal Code                                        191407 non-null  float64\n",
      " 5   Model Year                                         191407 non-null  int64  \n",
      " 6   Make                                               191407 non-null  object \n",
      " 7   Model                                              191407 non-null  object \n",
      " 8   Electric Vehicle Type                              191407 non-null  object \n",
      " 9   Clean Alternative Fuel Vehicle (CAFV) Eligibility  191407 non-null  object \n",
      " 10  Electric Range                                     191407 non-null  int64  \n",
      " 11  Base MSRP                                          191407 non-null  int64  \n",
      " 12  Legislative District                               191407 non-null  float64\n",
      " 13  DOL Vehicle ID                                     191407 non-null  int64  \n",
      " 14  Vehicle Location                                   191407 non-null  object \n",
      " 15  Electric Utility                                   191407 non-null  object \n",
      " 16  2020 Census Tract                                  191407 non-null  float64\n",
      "dtypes: float64(3), int64(4), object(10)\n",
      "memory usage: 24.8+ MB\n"
     ]
    }
   ],
   "source": [
    "df.info()"
   ]
  },
  {
   "cell_type": "code",
   "execution_count": 17,
   "id": "4bb6dc78",
   "metadata": {
    "execution": {
     "iopub.execute_input": "2024-07-22T20:33:09.769086Z",
     "iopub.status.busy": "2024-07-22T20:33:09.768713Z",
     "iopub.status.idle": "2024-07-22T20:33:09.789844Z",
     "shell.execute_reply": "2024-07-22T20:33:09.788734Z"
    },
    "id": "Qb8-0ldGrPN-",
    "outputId": "e7e9321e-0035-41f7-a49b-eb8827427015",
    "papermill": {
     "duration": 0.040373,
     "end_time": "2024-07-22T20:33:09.792307",
     "exception": false,
     "start_time": "2024-07-22T20:33:09.751934",
     "status": "completed"
    },
    "tags": []
   },
   "outputs": [
    {
     "data": {
      "text/html": [
       "<div>\n",
       "<style scoped>\n",
       "    .dataframe tbody tr th:only-of-type {\n",
       "        vertical-align: middle;\n",
       "    }\n",
       "\n",
       "    .dataframe tbody tr th {\n",
       "        vertical-align: top;\n",
       "    }\n",
       "\n",
       "    .dataframe thead th {\n",
       "        text-align: right;\n",
       "    }\n",
       "</style>\n",
       "<table border=\"1\" class=\"dataframe\">\n",
       "  <thead>\n",
       "    <tr style=\"text-align: right;\">\n",
       "      <th></th>\n",
       "      <th>VIN (1-10)</th>\n",
       "      <th>County</th>\n",
       "      <th>City</th>\n",
       "      <th>State</th>\n",
       "      <th>Postal Code</th>\n",
       "      <th>Model Year</th>\n",
       "      <th>Make</th>\n",
       "      <th>Model</th>\n",
       "      <th>Electric Vehicle Type</th>\n",
       "      <th>Clean Alternative Fuel Vehicle (CAFV) Eligibility</th>\n",
       "      <th>Electric Range</th>\n",
       "      <th>Base MSRP</th>\n",
       "      <th>Legislative District</th>\n",
       "      <th>DOL Vehicle ID</th>\n",
       "      <th>Vehicle Location</th>\n",
       "      <th>Electric Utility</th>\n",
       "      <th>2020 Census Tract</th>\n",
       "    </tr>\n",
       "  </thead>\n",
       "  <tbody>\n",
       "    <tr>\n",
       "      <th>0</th>\n",
       "      <td>5YJSA1E22K</td>\n",
       "      <td>King</td>\n",
       "      <td>Seattle</td>\n",
       "      <td>WA</td>\n",
       "      <td>98112.0</td>\n",
       "      <td>2019</td>\n",
       "      <td>TESLA</td>\n",
       "      <td>MODEL S</td>\n",
       "      <td>Battery Electric Vehicle (BEV)</td>\n",
       "      <td>Clean Alternative Fuel Vehicle Eligible</td>\n",
       "      <td>270</td>\n",
       "      <td>0</td>\n",
       "      <td>43.0</td>\n",
       "      <td>202233958</td>\n",
       "      <td>POINT (-122.300312 47.629782)</td>\n",
       "      <td>CITY OF SEATTLE - (WA)|CITY OF TACOMA - (WA)</td>\n",
       "      <td>5.303301e+10</td>\n",
       "    </tr>\n",
       "    <tr>\n",
       "      <th>1</th>\n",
       "      <td>3MW39FS05R</td>\n",
       "      <td>Yakima</td>\n",
       "      <td>Zillah</td>\n",
       "      <td>WA</td>\n",
       "      <td>98953.0</td>\n",
       "      <td>2024</td>\n",
       "      <td>BMW</td>\n",
       "      <td>330E</td>\n",
       "      <td>Plug-in Hybrid Electric Vehicle (PHEV)</td>\n",
       "      <td>Not eligible due to low battery range</td>\n",
       "      <td>20</td>\n",
       "      <td>0</td>\n",
       "      <td>15.0</td>\n",
       "      <td>264425178</td>\n",
       "      <td>POINT (-120.2658133 46.4063477)</td>\n",
       "      <td>PACIFICORP</td>\n",
       "      <td>5.307700e+10</td>\n",
       "    </tr>\n",
       "    <tr>\n",
       "      <th>2</th>\n",
       "      <td>1N4AZ0CP0F</td>\n",
       "      <td>King</td>\n",
       "      <td>Kent</td>\n",
       "      <td>WA</td>\n",
       "      <td>98031.0</td>\n",
       "      <td>2015</td>\n",
       "      <td>NISSAN</td>\n",
       "      <td>LEAF</td>\n",
       "      <td>Battery Electric Vehicle (BEV)</td>\n",
       "      <td>Clean Alternative Fuel Vehicle Eligible</td>\n",
       "      <td>84</td>\n",
       "      <td>0</td>\n",
       "      <td>11.0</td>\n",
       "      <td>114962025</td>\n",
       "      <td>POINT (-122.201564 47.402358)</td>\n",
       "      <td>PUGET SOUND ENERGY INC||CITY OF TACOMA - (WA)</td>\n",
       "      <td>5.303303e+10</td>\n",
       "    </tr>\n",
       "    <tr>\n",
       "      <th>3</th>\n",
       "      <td>5YJSA1H20F</td>\n",
       "      <td>Snohomish</td>\n",
       "      <td>Bothell</td>\n",
       "      <td>WA</td>\n",
       "      <td>98012.0</td>\n",
       "      <td>2015</td>\n",
       "      <td>TESLA</td>\n",
       "      <td>MODEL S</td>\n",
       "      <td>Battery Electric Vehicle (BEV)</td>\n",
       "      <td>Clean Alternative Fuel Vehicle Eligible</td>\n",
       "      <td>208</td>\n",
       "      <td>0</td>\n",
       "      <td>1.0</td>\n",
       "      <td>232724670</td>\n",
       "      <td>POINT (-122.206146 47.839957)</td>\n",
       "      <td>PUGET SOUND ENERGY INC</td>\n",
       "      <td>5.306105e+10</td>\n",
       "    </tr>\n",
       "    <tr>\n",
       "      <th>4</th>\n",
       "      <td>JTMAB3FV1N</td>\n",
       "      <td>Yakima</td>\n",
       "      <td>Yakima</td>\n",
       "      <td>WA</td>\n",
       "      <td>98908.0</td>\n",
       "      <td>2022</td>\n",
       "      <td>TOYOTA</td>\n",
       "      <td>RAV4 PRIME</td>\n",
       "      <td>Plug-in Hybrid Electric Vehicle (PHEV)</td>\n",
       "      <td>Clean Alternative Fuel Vehicle Eligible</td>\n",
       "      <td>42</td>\n",
       "      <td>0</td>\n",
       "      <td>14.0</td>\n",
       "      <td>221023589</td>\n",
       "      <td>POINT (-120.611068 46.596645)</td>\n",
       "      <td>PACIFICORP</td>\n",
       "      <td>5.307700e+10</td>\n",
       "    </tr>\n",
       "  </tbody>\n",
       "</table>\n",
       "</div>"
      ],
      "text/plain": [
       "   VIN (1-10)     County     City State  Postal Code  Model Year    Make  \\\n",
       "0  5YJSA1E22K       King  Seattle    WA      98112.0        2019   TESLA   \n",
       "1  3MW39FS05R     Yakima   Zillah    WA      98953.0        2024     BMW   \n",
       "2  1N4AZ0CP0F       King     Kent    WA      98031.0        2015  NISSAN   \n",
       "3  5YJSA1H20F  Snohomish  Bothell    WA      98012.0        2015   TESLA   \n",
       "4  JTMAB3FV1N     Yakima   Yakima    WA      98908.0        2022  TOYOTA   \n",
       "\n",
       "        Model                   Electric Vehicle Type  \\\n",
       "0     MODEL S          Battery Electric Vehicle (BEV)   \n",
       "1        330E  Plug-in Hybrid Electric Vehicle (PHEV)   \n",
       "2        LEAF          Battery Electric Vehicle (BEV)   \n",
       "3     MODEL S          Battery Electric Vehicle (BEV)   \n",
       "4  RAV4 PRIME  Plug-in Hybrid Electric Vehicle (PHEV)   \n",
       "\n",
       "  Clean Alternative Fuel Vehicle (CAFV) Eligibility  Electric Range  \\\n",
       "0           Clean Alternative Fuel Vehicle Eligible             270   \n",
       "1             Not eligible due to low battery range              20   \n",
       "2           Clean Alternative Fuel Vehicle Eligible              84   \n",
       "3           Clean Alternative Fuel Vehicle Eligible             208   \n",
       "4           Clean Alternative Fuel Vehicle Eligible              42   \n",
       "\n",
       "   Base MSRP  Legislative District  DOL Vehicle ID  \\\n",
       "0          0                  43.0       202233958   \n",
       "1          0                  15.0       264425178   \n",
       "2          0                  11.0       114962025   \n",
       "3          0                   1.0       232724670   \n",
       "4          0                  14.0       221023589   \n",
       "\n",
       "                  Vehicle Location  \\\n",
       "0    POINT (-122.300312 47.629782)   \n",
       "1  POINT (-120.2658133 46.4063477)   \n",
       "2    POINT (-122.201564 47.402358)   \n",
       "3    POINT (-122.206146 47.839957)   \n",
       "4    POINT (-120.611068 46.596645)   \n",
       "\n",
       "                                Electric Utility  2020 Census Tract  \n",
       "0   CITY OF SEATTLE - (WA)|CITY OF TACOMA - (WA)       5.303301e+10  \n",
       "1                                     PACIFICORP       5.307700e+10  \n",
       "2  PUGET SOUND ENERGY INC||CITY OF TACOMA - (WA)       5.303303e+10  \n",
       "3                         PUGET SOUND ENERGY INC       5.306105e+10  \n",
       "4                                     PACIFICORP       5.307700e+10  "
      ]
     },
     "execution_count": 17,
     "metadata": {},
     "output_type": "execute_result"
    }
   ],
   "source": [
    "df.head()"
   ]
  },
  {
   "cell_type": "code",
   "execution_count": 18,
   "id": "ce0a4675",
   "metadata": {
    "execution": {
     "iopub.execute_input": "2024-07-22T20:33:09.824825Z",
     "iopub.status.busy": "2024-07-22T20:33:09.824385Z",
     "iopub.status.idle": "2024-07-22T20:33:09.831162Z",
     "shell.execute_reply": "2024-07-22T20:33:09.830119Z"
    },
    "id": "zF0jAb6hrRn4",
    "outputId": "025317b1-ebd4-4b89-e9d6-02b5241b63b9",
    "papermill": {
     "duration": 0.026109,
     "end_time": "2024-07-22T20:33:09.833507",
     "exception": false,
     "start_time": "2024-07-22T20:33:09.807398",
     "status": "completed"
    },
    "tags": []
   },
   "outputs": [
    {
     "data": {
      "text/plain": [
       "(191407, 17)"
      ]
     },
     "execution_count": 18,
     "metadata": {},
     "output_type": "execute_result"
    }
   ],
   "source": [
    "df.shape"
   ]
  },
  {
   "cell_type": "code",
   "execution_count": 19,
   "id": "1a985d2d",
   "metadata": {
    "execution": {
     "iopub.execute_input": "2024-07-22T20:33:09.865307Z",
     "iopub.status.busy": "2024-07-22T20:33:09.864905Z",
     "iopub.status.idle": "2024-07-22T20:33:09.871650Z",
     "shell.execute_reply": "2024-07-22T20:33:09.870662Z"
    },
    "id": "sW9pM_vMrU0Q",
    "outputId": "b1abdc65-fb84-4841-9372-b6d8ccd23e89",
    "papermill": {
     "duration": 0.02539,
     "end_time": "2024-07-22T20:33:09.874025",
     "exception": false,
     "start_time": "2024-07-22T20:33:09.848635",
     "status": "completed"
    },
    "tags": []
   },
   "outputs": [
    {
     "data": {
      "text/plain": [
       "Index(['VIN (1-10)', 'County', 'City', 'State', 'Postal Code', 'Model Year',\n",
       "       'Make', 'Model', 'Electric Vehicle Type',\n",
       "       'Clean Alternative Fuel Vehicle (CAFV) Eligibility', 'Electric Range',\n",
       "       'Base MSRP', 'Legislative District', 'DOL Vehicle ID',\n",
       "       'Vehicle Location', 'Electric Utility', '2020 Census Tract'],\n",
       "      dtype='object')"
      ]
     },
     "execution_count": 19,
     "metadata": {},
     "output_type": "execute_result"
    }
   ],
   "source": [
    "df.columns"
   ]
  },
  {
   "cell_type": "markdown",
   "id": "3521bf8f",
   "metadata": {
    "id": "0iV7Yv-BrlzC",
    "papermill": {
     "duration": 0.015832,
     "end_time": "2024-07-22T20:33:09.964562",
     "exception": false,
     "start_time": "2024-07-22T20:33:09.948730",
     "status": "completed"
    },
    "tags": []
   },
   "source": [
    "### Till here data don't have any Null values, Any Outliers"
   ]
  },
  {
   "cell_type": "code",
   "execution_count": 20,
   "id": "78e39043",
   "metadata": {
    "execution": {
     "iopub.execute_input": "2024-07-22T20:33:09.999303Z",
     "iopub.status.busy": "2024-07-22T20:33:09.998889Z",
     "iopub.status.idle": "2024-07-22T20:33:10.103364Z",
     "shell.execute_reply": "2024-07-22T20:33:10.102231Z"
    },
    "id": "yfNfvB0KrZv9",
    "outputId": "8d1a162a-53eb-401e-ae03-09d0d5f8b207",
    "papermill": {
     "duration": 0.124413,
     "end_time": "2024-07-22T20:33:10.105938",
     "exception": false,
     "start_time": "2024-07-22T20:33:09.981525",
     "status": "completed"
    },
    "tags": []
   },
   "outputs": [
    {
     "name": "stdout",
     "output_type": "stream",
     "text": [
      "<class 'pandas.core.frame.DataFrame'>\n",
      "RangeIndex: 191407 entries, 0 to 191406\n",
      "Data columns (total 17 columns):\n",
      " #   Column                                             Non-Null Count   Dtype  \n",
      "---  ------                                             --------------   -----  \n",
      " 0   VIN (1-10)                                         191407 non-null  object \n",
      " 1   County                                             191407 non-null  object \n",
      " 2   City                                               191407 non-null  object \n",
      " 3   State                                              191407 non-null  object \n",
      " 4   Postal Code                                        191407 non-null  float64\n",
      " 5   Model Year                                         191407 non-null  int64  \n",
      " 6   Make                                               191407 non-null  object \n",
      " 7   Model                                              191407 non-null  object \n",
      " 8   Electric Vehicle Type                              191407 non-null  object \n",
      " 9   Clean Alternative Fuel Vehicle (CAFV) Eligibility  191407 non-null  object \n",
      " 10  Electric Range                                     191407 non-null  int64  \n",
      " 11  Base MSRP                                          191407 non-null  int64  \n",
      " 12  Legislative District                               191407 non-null  float64\n",
      " 13  DOL Vehicle ID                                     191407 non-null  int64  \n",
      " 14  Vehicle Location                                   191407 non-null  object \n",
      " 15  Electric Utility                                   191407 non-null  object \n",
      " 16  2020 Census Tract                                  191407 non-null  float64\n",
      "dtypes: float64(3), int64(4), object(10)\n",
      "memory usage: 24.8+ MB\n"
     ]
    }
   ],
   "source": [
    "df.info()"
   ]
  },
  {
   "cell_type": "code",
   "execution_count": 21,
   "id": "d422c74b",
   "metadata": {
    "execution": {
     "iopub.execute_input": "2024-07-22T20:33:10.141504Z",
     "iopub.status.busy": "2024-07-22T20:33:10.141057Z",
     "iopub.status.idle": "2024-07-22T20:33:10.151866Z",
     "shell.execute_reply": "2024-07-22T20:33:10.150624Z"
    },
    "id": "D3nI-wT0sTL1",
    "outputId": "260bce6d-9921-4e6f-b928-46928c3faf8f",
    "papermill": {
     "duration": 0.031062,
     "end_time": "2024-07-22T20:33:10.154403",
     "exception": false,
     "start_time": "2024-07-22T20:33:10.123341",
     "status": "completed"
    },
    "tags": []
   },
   "outputs": [
    {
     "data": {
      "text/plain": [
       "array([     0,  36900,  32250,  69900,  52650,  64950,  54950,  52900,\n",
       "        45600,  53400,  59900, 110950,  31950,  81100,  39995,  91250,\n",
       "        33950,  98950,  90700,  44100,  55700,  34995,  43700,  36800,\n",
       "       184400,  89100, 102000,  75095, 109000,  32995, 845000])"
      ]
     },
     "execution_count": 21,
     "metadata": {},
     "output_type": "execute_result"
    }
   ],
   "source": [
    "df[\"Base MSRP\"].unique()"
   ]
  },
  {
   "cell_type": "markdown",
   "id": "5cfc27e9",
   "metadata": {
    "id": "sozGuYmaEUM2",
    "papermill": {
     "duration": 0.01647,
     "end_time": "2024-07-22T20:33:10.187711",
     "exception": false,
     "start_time": "2024-07-22T20:33:10.171241",
     "status": "completed"
    },
    "tags": []
   },
   "source": [
    "### Data Type Conversion"
   ]
  },
  {
   "cell_type": "code",
   "execution_count": 22,
   "id": "ca469bb5",
   "metadata": {
    "execution": {
     "iopub.execute_input": "2024-07-22T20:33:10.221535Z",
     "iopub.status.busy": "2024-07-22T20:33:10.221123Z",
     "iopub.status.idle": "2024-07-22T20:33:10.237317Z",
     "shell.execute_reply": "2024-07-22T20:33:10.235984Z"
    },
    "id": "iwi9qOkSr78u",
    "papermill": {
     "duration": 0.035939,
     "end_time": "2024-07-22T20:33:10.240157",
     "exception": false,
     "start_time": "2024-07-22T20:33:10.204218",
     "status": "completed"
    },
    "tags": []
   },
   "outputs": [],
   "source": [
    "list_to_convert_dtypes = [\"Postal Code\",\"Model Year\",\"Electric Range\",\"Base MSRP\",\"Legislative District\",\"DOL Vehicle ID\",\"2020 Census Tract\"]\n",
    "for i in list_to_convert_dtypes:\n",
    "  df[i] = df[i].astype(int)"
   ]
  },
  {
   "cell_type": "code",
   "execution_count": 23,
   "id": "0593df05",
   "metadata": {
    "execution": {
     "iopub.execute_input": "2024-07-22T20:33:10.275929Z",
     "iopub.status.busy": "2024-07-22T20:33:10.275530Z",
     "iopub.status.idle": "2024-07-22T20:33:10.382556Z",
     "shell.execute_reply": "2024-07-22T20:33:10.380234Z"
    },
    "id": "qSx9bwWkst_t",
    "outputId": "1f7d82c0-f425-4d12-ce13-126a64a365a6",
    "papermill": {
     "duration": 0.130079,
     "end_time": "2024-07-22T20:33:10.386496",
     "exception": false,
     "start_time": "2024-07-22T20:33:10.256417",
     "status": "completed"
    },
    "tags": []
   },
   "outputs": [
    {
     "name": "stdout",
     "output_type": "stream",
     "text": [
      "<class 'pandas.core.frame.DataFrame'>\n",
      "RangeIndex: 191407 entries, 0 to 191406\n",
      "Data columns (total 17 columns):\n",
      " #   Column                                             Non-Null Count   Dtype \n",
      "---  ------                                             --------------   ----- \n",
      " 0   VIN (1-10)                                         191407 non-null  object\n",
      " 1   County                                             191407 non-null  object\n",
      " 2   City                                               191407 non-null  object\n",
      " 3   State                                              191407 non-null  object\n",
      " 4   Postal Code                                        191407 non-null  int64 \n",
      " 5   Model Year                                         191407 non-null  int64 \n",
      " 6   Make                                               191407 non-null  object\n",
      " 7   Model                                              191407 non-null  object\n",
      " 8   Electric Vehicle Type                              191407 non-null  object\n",
      " 9   Clean Alternative Fuel Vehicle (CAFV) Eligibility  191407 non-null  object\n",
      " 10  Electric Range                                     191407 non-null  int64 \n",
      " 11  Base MSRP                                          191407 non-null  int64 \n",
      " 12  Legislative District                               191407 non-null  int64 \n",
      " 13  DOL Vehicle ID                                     191407 non-null  int64 \n",
      " 14  Vehicle Location                                   191407 non-null  object\n",
      " 15  Electric Utility                                   191407 non-null  object\n",
      " 16  2020 Census Tract                                  191407 non-null  int64 \n",
      "dtypes: int64(7), object(10)\n",
      "memory usage: 24.8+ MB\n"
     ]
    }
   ],
   "source": [
    "df.info()"
   ]
  },
  {
   "cell_type": "code",
   "execution_count": 24,
   "id": "713450ea",
   "metadata": {
    "execution": {
     "iopub.execute_input": "2024-07-22T20:33:10.425310Z",
     "iopub.status.busy": "2024-07-22T20:33:10.424825Z",
     "iopub.status.idle": "2024-07-22T20:33:10.446013Z",
     "shell.execute_reply": "2024-07-22T20:33:10.444566Z"
    },
    "id": "MRD2rJdHs4wv",
    "outputId": "d1d085b1-cfe2-46d0-da15-597ba5d47eca",
    "papermill": {
     "duration": 0.043457,
     "end_time": "2024-07-22T20:33:10.449560",
     "exception": false,
     "start_time": "2024-07-22T20:33:10.406103",
     "status": "completed"
    },
    "tags": []
   },
   "outputs": [
    {
     "data": {
      "text/html": [
       "<div>\n",
       "<style scoped>\n",
       "    .dataframe tbody tr th:only-of-type {\n",
       "        vertical-align: middle;\n",
       "    }\n",
       "\n",
       "    .dataframe tbody tr th {\n",
       "        vertical-align: top;\n",
       "    }\n",
       "\n",
       "    .dataframe thead th {\n",
       "        text-align: right;\n",
       "    }\n",
       "</style>\n",
       "<table border=\"1\" class=\"dataframe\">\n",
       "  <thead>\n",
       "    <tr style=\"text-align: right;\">\n",
       "      <th></th>\n",
       "      <th>VIN (1-10)</th>\n",
       "      <th>County</th>\n",
       "      <th>City</th>\n",
       "      <th>State</th>\n",
       "      <th>Postal Code</th>\n",
       "      <th>Model Year</th>\n",
       "      <th>Make</th>\n",
       "      <th>Model</th>\n",
       "      <th>Electric Vehicle Type</th>\n",
       "      <th>Clean Alternative Fuel Vehicle (CAFV) Eligibility</th>\n",
       "      <th>Electric Range</th>\n",
       "      <th>Base MSRP</th>\n",
       "      <th>Legislative District</th>\n",
       "      <th>DOL Vehicle ID</th>\n",
       "      <th>Vehicle Location</th>\n",
       "      <th>Electric Utility</th>\n",
       "      <th>2020 Census Tract</th>\n",
       "    </tr>\n",
       "  </thead>\n",
       "  <tbody>\n",
       "    <tr>\n",
       "      <th>0</th>\n",
       "      <td>5YJSA1E22K</td>\n",
       "      <td>King</td>\n",
       "      <td>Seattle</td>\n",
       "      <td>WA</td>\n",
       "      <td>98112</td>\n",
       "      <td>2019</td>\n",
       "      <td>TESLA</td>\n",
       "      <td>MODEL S</td>\n",
       "      <td>Battery Electric Vehicle (BEV)</td>\n",
       "      <td>Clean Alternative Fuel Vehicle Eligible</td>\n",
       "      <td>270</td>\n",
       "      <td>0</td>\n",
       "      <td>43</td>\n",
       "      <td>202233958</td>\n",
       "      <td>POINT (-122.300312 47.629782)</td>\n",
       "      <td>CITY OF SEATTLE - (WA)|CITY OF TACOMA - (WA)</td>\n",
       "      <td>53033006500</td>\n",
       "    </tr>\n",
       "    <tr>\n",
       "      <th>1</th>\n",
       "      <td>3MW39FS05R</td>\n",
       "      <td>Yakima</td>\n",
       "      <td>Zillah</td>\n",
       "      <td>WA</td>\n",
       "      <td>98953</td>\n",
       "      <td>2024</td>\n",
       "      <td>BMW</td>\n",
       "      <td>330E</td>\n",
       "      <td>Plug-in Hybrid Electric Vehicle (PHEV)</td>\n",
       "      <td>Not eligible due to low battery range</td>\n",
       "      <td>20</td>\n",
       "      <td>0</td>\n",
       "      <td>15</td>\n",
       "      <td>264425178</td>\n",
       "      <td>POINT (-120.2658133 46.4063477)</td>\n",
       "      <td>PACIFICORP</td>\n",
       "      <td>53077002201</td>\n",
       "    </tr>\n",
       "    <tr>\n",
       "      <th>2</th>\n",
       "      <td>1N4AZ0CP0F</td>\n",
       "      <td>King</td>\n",
       "      <td>Kent</td>\n",
       "      <td>WA</td>\n",
       "      <td>98031</td>\n",
       "      <td>2015</td>\n",
       "      <td>NISSAN</td>\n",
       "      <td>LEAF</td>\n",
       "      <td>Battery Electric Vehicle (BEV)</td>\n",
       "      <td>Clean Alternative Fuel Vehicle Eligible</td>\n",
       "      <td>84</td>\n",
       "      <td>0</td>\n",
       "      <td>11</td>\n",
       "      <td>114962025</td>\n",
       "      <td>POINT (-122.201564 47.402358)</td>\n",
       "      <td>PUGET SOUND ENERGY INC||CITY OF TACOMA - (WA)</td>\n",
       "      <td>53033029306</td>\n",
       "    </tr>\n",
       "    <tr>\n",
       "      <th>3</th>\n",
       "      <td>5YJSA1H20F</td>\n",
       "      <td>Snohomish</td>\n",
       "      <td>Bothell</td>\n",
       "      <td>WA</td>\n",
       "      <td>98012</td>\n",
       "      <td>2015</td>\n",
       "      <td>TESLA</td>\n",
       "      <td>MODEL S</td>\n",
       "      <td>Battery Electric Vehicle (BEV)</td>\n",
       "      <td>Clean Alternative Fuel Vehicle Eligible</td>\n",
       "      <td>208</td>\n",
       "      <td>0</td>\n",
       "      <td>1</td>\n",
       "      <td>232724670</td>\n",
       "      <td>POINT (-122.206146 47.839957)</td>\n",
       "      <td>PUGET SOUND ENERGY INC</td>\n",
       "      <td>53061052107</td>\n",
       "    </tr>\n",
       "    <tr>\n",
       "      <th>4</th>\n",
       "      <td>JTMAB3FV1N</td>\n",
       "      <td>Yakima</td>\n",
       "      <td>Yakima</td>\n",
       "      <td>WA</td>\n",
       "      <td>98908</td>\n",
       "      <td>2022</td>\n",
       "      <td>TOYOTA</td>\n",
       "      <td>RAV4 PRIME</td>\n",
       "      <td>Plug-in Hybrid Electric Vehicle (PHEV)</td>\n",
       "      <td>Clean Alternative Fuel Vehicle Eligible</td>\n",
       "      <td>42</td>\n",
       "      <td>0</td>\n",
       "      <td>14</td>\n",
       "      <td>221023589</td>\n",
       "      <td>POINT (-120.611068 46.596645)</td>\n",
       "      <td>PACIFICORP</td>\n",
       "      <td>53077000902</td>\n",
       "    </tr>\n",
       "  </tbody>\n",
       "</table>\n",
       "</div>"
      ],
      "text/plain": [
       "   VIN (1-10)     County     City State  Postal Code  Model Year    Make  \\\n",
       "0  5YJSA1E22K       King  Seattle    WA        98112        2019   TESLA   \n",
       "1  3MW39FS05R     Yakima   Zillah    WA        98953        2024     BMW   \n",
       "2  1N4AZ0CP0F       King     Kent    WA        98031        2015  NISSAN   \n",
       "3  5YJSA1H20F  Snohomish  Bothell    WA        98012        2015   TESLA   \n",
       "4  JTMAB3FV1N     Yakima   Yakima    WA        98908        2022  TOYOTA   \n",
       "\n",
       "        Model                   Electric Vehicle Type  \\\n",
       "0     MODEL S          Battery Electric Vehicle (BEV)   \n",
       "1        330E  Plug-in Hybrid Electric Vehicle (PHEV)   \n",
       "2        LEAF          Battery Electric Vehicle (BEV)   \n",
       "3     MODEL S          Battery Electric Vehicle (BEV)   \n",
       "4  RAV4 PRIME  Plug-in Hybrid Electric Vehicle (PHEV)   \n",
       "\n",
       "  Clean Alternative Fuel Vehicle (CAFV) Eligibility  Electric Range  \\\n",
       "0           Clean Alternative Fuel Vehicle Eligible             270   \n",
       "1             Not eligible due to low battery range              20   \n",
       "2           Clean Alternative Fuel Vehicle Eligible              84   \n",
       "3           Clean Alternative Fuel Vehicle Eligible             208   \n",
       "4           Clean Alternative Fuel Vehicle Eligible              42   \n",
       "\n",
       "   Base MSRP  Legislative District  DOL Vehicle ID  \\\n",
       "0          0                    43       202233958   \n",
       "1          0                    15       264425178   \n",
       "2          0                    11       114962025   \n",
       "3          0                     1       232724670   \n",
       "4          0                    14       221023589   \n",
       "\n",
       "                  Vehicle Location  \\\n",
       "0    POINT (-122.300312 47.629782)   \n",
       "1  POINT (-120.2658133 46.4063477)   \n",
       "2    POINT (-122.201564 47.402358)   \n",
       "3    POINT (-122.206146 47.839957)   \n",
       "4    POINT (-120.611068 46.596645)   \n",
       "\n",
       "                                Electric Utility  2020 Census Tract  \n",
       "0   CITY OF SEATTLE - (WA)|CITY OF TACOMA - (WA)        53033006500  \n",
       "1                                     PACIFICORP        53077002201  \n",
       "2  PUGET SOUND ENERGY INC||CITY OF TACOMA - (WA)        53033029306  \n",
       "3                         PUGET SOUND ENERGY INC        53061052107  \n",
       "4                                     PACIFICORP        53077000902  "
      ]
     },
     "execution_count": 24,
     "metadata": {},
     "output_type": "execute_result"
    }
   ],
   "source": [
    "df.head()"
   ]
  },
  {
   "cell_type": "markdown",
   "id": "03b7dc2c",
   "metadata": {
    "id": "N9UB1uR9EXaj",
    "papermill": {
     "duration": 0.020747,
     "end_time": "2024-07-22T20:33:10.492210",
     "exception": false,
     "start_time": "2024-07-22T20:33:10.471463",
     "status": "completed"
    },
    "tags": []
   },
   "source": [
    "# Conversion of Categorical Variables using LabelEncoding"
   ]
  },
  {
   "cell_type": "code",
   "execution_count": 25,
   "id": "a8fa4bf5",
   "metadata": {
    "execution": {
     "iopub.execute_input": "2024-07-22T20:33:10.536446Z",
     "iopub.status.busy": "2024-07-22T20:33:10.536036Z",
     "iopub.status.idle": "2024-07-22T20:33:10.942881Z",
     "shell.execute_reply": "2024-07-22T20:33:10.941535Z"
    },
    "id": "X1JwiLpjvPzR",
    "papermill": {
     "duration": 0.429756,
     "end_time": "2024-07-22T20:33:10.945731",
     "exception": false,
     "start_time": "2024-07-22T20:33:10.515975",
     "status": "completed"
    },
    "tags": []
   },
   "outputs": [],
   "source": [
    "from sklearn.preprocessing import LabelEncoder\n",
    "\n",
    "label_encoder = LabelEncoder()\n",
    "\n",
    "df[\"Clean Alternative Fuel Vehicle (CAFV) Eligibility\"] = label_encoder.fit_transform(df[\"Clean Alternative Fuel Vehicle (CAFV) Eligibility\"])\n",
    "df[\"Electric Vehicle Type\"] = label_encoder.fit_transform(df[\"Electric Vehicle Type\"])"
   ]
  },
  {
   "cell_type": "code",
   "execution_count": 26,
   "id": "fbb450a9",
   "metadata": {
    "execution": {
     "iopub.execute_input": "2024-07-22T20:33:10.985606Z",
     "iopub.status.busy": "2024-07-22T20:33:10.985218Z",
     "iopub.status.idle": "2024-07-22T20:33:11.071626Z",
     "shell.execute_reply": "2024-07-22T20:33:11.070371Z"
    },
    "id": "Utb8MpmawQn-",
    "outputId": "38cdd176-b767-4f5d-da94-f6534953c964",
    "papermill": {
     "duration": 0.10757,
     "end_time": "2024-07-22T20:33:11.074251",
     "exception": false,
     "start_time": "2024-07-22T20:33:10.966681",
     "status": "completed"
    },
    "tags": []
   },
   "outputs": [
    {
     "name": "stdout",
     "output_type": "stream",
     "text": [
      "<class 'pandas.core.frame.DataFrame'>\n",
      "RangeIndex: 191407 entries, 0 to 191406\n",
      "Data columns (total 17 columns):\n",
      " #   Column                                             Non-Null Count   Dtype \n",
      "---  ------                                             --------------   ----- \n",
      " 0   VIN (1-10)                                         191407 non-null  object\n",
      " 1   County                                             191407 non-null  object\n",
      " 2   City                                               191407 non-null  object\n",
      " 3   State                                              191407 non-null  object\n",
      " 4   Postal Code                                        191407 non-null  int64 \n",
      " 5   Model Year                                         191407 non-null  int64 \n",
      " 6   Make                                               191407 non-null  object\n",
      " 7   Model                                              191407 non-null  object\n",
      " 8   Electric Vehicle Type                              191407 non-null  int64 \n",
      " 9   Clean Alternative Fuel Vehicle (CAFV) Eligibility  191407 non-null  int64 \n",
      " 10  Electric Range                                     191407 non-null  int64 \n",
      " 11  Base MSRP                                          191407 non-null  int64 \n",
      " 12  Legislative District                               191407 non-null  int64 \n",
      " 13  DOL Vehicle ID                                     191407 non-null  int64 \n",
      " 14  Vehicle Location                                   191407 non-null  object\n",
      " 15  Electric Utility                                   191407 non-null  object\n",
      " 16  2020 Census Tract                                  191407 non-null  int64 \n",
      "dtypes: int64(9), object(8)\n",
      "memory usage: 24.8+ MB\n"
     ]
    }
   ],
   "source": [
    "df.info()"
   ]
  },
  {
   "cell_type": "markdown",
   "id": "cb862839",
   "metadata": {
    "id": "j3jqPVdjDvsk",
    "papermill": {
     "duration": 0.016069,
     "end_time": "2024-07-22T20:33:11.106846",
     "exception": false,
     "start_time": "2024-07-22T20:33:11.090777",
     "status": "completed"
    },
    "tags": []
   },
   "source": [
    "# Feature Engineering"
   ]
  },
  {
   "cell_type": "code",
   "execution_count": 27,
   "id": "726418f2",
   "metadata": {
    "execution": {
     "iopub.execute_input": "2024-07-22T20:33:11.142005Z",
     "iopub.status.busy": "2024-07-22T20:33:11.141621Z",
     "iopub.status.idle": "2024-07-22T20:33:11.160890Z",
     "shell.execute_reply": "2024-07-22T20:33:11.159713Z"
    },
    "id": "F1Ig6_BKwVBj",
    "outputId": "111ad717-a396-4051-b0e2-6e7b45d0e6d4",
    "papermill": {
     "duration": 0.039972,
     "end_time": "2024-07-22T20:33:11.163379",
     "exception": false,
     "start_time": "2024-07-22T20:33:11.123407",
     "status": "completed"
    },
    "tags": []
   },
   "outputs": [
    {
     "data": {
      "text/html": [
       "<div>\n",
       "<style scoped>\n",
       "    .dataframe tbody tr th:only-of-type {\n",
       "        vertical-align: middle;\n",
       "    }\n",
       "\n",
       "    .dataframe tbody tr th {\n",
       "        vertical-align: top;\n",
       "    }\n",
       "\n",
       "    .dataframe thead th {\n",
       "        text-align: right;\n",
       "    }\n",
       "</style>\n",
       "<table border=\"1\" class=\"dataframe\">\n",
       "  <thead>\n",
       "    <tr style=\"text-align: right;\">\n",
       "      <th></th>\n",
       "      <th>VIN (1-10)</th>\n",
       "      <th>County</th>\n",
       "      <th>City</th>\n",
       "      <th>State</th>\n",
       "      <th>Postal Code</th>\n",
       "      <th>Model Year</th>\n",
       "      <th>Make</th>\n",
       "      <th>Model</th>\n",
       "      <th>Electric Vehicle Type</th>\n",
       "      <th>Clean Alternative Fuel Vehicle (CAFV) Eligibility</th>\n",
       "      <th>Electric Range</th>\n",
       "      <th>Base MSRP</th>\n",
       "      <th>Legislative District</th>\n",
       "      <th>DOL Vehicle ID</th>\n",
       "      <th>Vehicle Location</th>\n",
       "      <th>Electric Utility</th>\n",
       "      <th>2020 Census Tract</th>\n",
       "    </tr>\n",
       "  </thead>\n",
       "  <tbody>\n",
       "    <tr>\n",
       "      <th>0</th>\n",
       "      <td>5YJSA1E22K</td>\n",
       "      <td>King</td>\n",
       "      <td>Seattle</td>\n",
       "      <td>WA</td>\n",
       "      <td>98112</td>\n",
       "      <td>2019</td>\n",
       "      <td>TESLA</td>\n",
       "      <td>MODEL S</td>\n",
       "      <td>0</td>\n",
       "      <td>0</td>\n",
       "      <td>270</td>\n",
       "      <td>0</td>\n",
       "      <td>43</td>\n",
       "      <td>202233958</td>\n",
       "      <td>POINT (-122.300312 47.629782)</td>\n",
       "      <td>CITY OF SEATTLE - (WA)|CITY OF TACOMA - (WA)</td>\n",
       "      <td>53033006500</td>\n",
       "    </tr>\n",
       "    <tr>\n",
       "      <th>1</th>\n",
       "      <td>3MW39FS05R</td>\n",
       "      <td>Yakima</td>\n",
       "      <td>Zillah</td>\n",
       "      <td>WA</td>\n",
       "      <td>98953</td>\n",
       "      <td>2024</td>\n",
       "      <td>BMW</td>\n",
       "      <td>330E</td>\n",
       "      <td>1</td>\n",
       "      <td>2</td>\n",
       "      <td>20</td>\n",
       "      <td>0</td>\n",
       "      <td>15</td>\n",
       "      <td>264425178</td>\n",
       "      <td>POINT (-120.2658133 46.4063477)</td>\n",
       "      <td>PACIFICORP</td>\n",
       "      <td>53077002201</td>\n",
       "    </tr>\n",
       "    <tr>\n",
       "      <th>2</th>\n",
       "      <td>1N4AZ0CP0F</td>\n",
       "      <td>King</td>\n",
       "      <td>Kent</td>\n",
       "      <td>WA</td>\n",
       "      <td>98031</td>\n",
       "      <td>2015</td>\n",
       "      <td>NISSAN</td>\n",
       "      <td>LEAF</td>\n",
       "      <td>0</td>\n",
       "      <td>0</td>\n",
       "      <td>84</td>\n",
       "      <td>0</td>\n",
       "      <td>11</td>\n",
       "      <td>114962025</td>\n",
       "      <td>POINT (-122.201564 47.402358)</td>\n",
       "      <td>PUGET SOUND ENERGY INC||CITY OF TACOMA - (WA)</td>\n",
       "      <td>53033029306</td>\n",
       "    </tr>\n",
       "    <tr>\n",
       "      <th>3</th>\n",
       "      <td>5YJSA1H20F</td>\n",
       "      <td>Snohomish</td>\n",
       "      <td>Bothell</td>\n",
       "      <td>WA</td>\n",
       "      <td>98012</td>\n",
       "      <td>2015</td>\n",
       "      <td>TESLA</td>\n",
       "      <td>MODEL S</td>\n",
       "      <td>0</td>\n",
       "      <td>0</td>\n",
       "      <td>208</td>\n",
       "      <td>0</td>\n",
       "      <td>1</td>\n",
       "      <td>232724670</td>\n",
       "      <td>POINT (-122.206146 47.839957)</td>\n",
       "      <td>PUGET SOUND ENERGY INC</td>\n",
       "      <td>53061052107</td>\n",
       "    </tr>\n",
       "    <tr>\n",
       "      <th>4</th>\n",
       "      <td>JTMAB3FV1N</td>\n",
       "      <td>Yakima</td>\n",
       "      <td>Yakima</td>\n",
       "      <td>WA</td>\n",
       "      <td>98908</td>\n",
       "      <td>2022</td>\n",
       "      <td>TOYOTA</td>\n",
       "      <td>RAV4 PRIME</td>\n",
       "      <td>1</td>\n",
       "      <td>0</td>\n",
       "      <td>42</td>\n",
       "      <td>0</td>\n",
       "      <td>14</td>\n",
       "      <td>221023589</td>\n",
       "      <td>POINT (-120.611068 46.596645)</td>\n",
       "      <td>PACIFICORP</td>\n",
       "      <td>53077000902</td>\n",
       "    </tr>\n",
       "  </tbody>\n",
       "</table>\n",
       "</div>"
      ],
      "text/plain": [
       "   VIN (1-10)     County     City State  Postal Code  Model Year    Make  \\\n",
       "0  5YJSA1E22K       King  Seattle    WA        98112        2019   TESLA   \n",
       "1  3MW39FS05R     Yakima   Zillah    WA        98953        2024     BMW   \n",
       "2  1N4AZ0CP0F       King     Kent    WA        98031        2015  NISSAN   \n",
       "3  5YJSA1H20F  Snohomish  Bothell    WA        98012        2015   TESLA   \n",
       "4  JTMAB3FV1N     Yakima   Yakima    WA        98908        2022  TOYOTA   \n",
       "\n",
       "        Model  Electric Vehicle Type  \\\n",
       "0     MODEL S                      0   \n",
       "1        330E                      1   \n",
       "2        LEAF                      0   \n",
       "3     MODEL S                      0   \n",
       "4  RAV4 PRIME                      1   \n",
       "\n",
       "   Clean Alternative Fuel Vehicle (CAFV) Eligibility  Electric Range  \\\n",
       "0                                                  0             270   \n",
       "1                                                  2              20   \n",
       "2                                                  0              84   \n",
       "3                                                  0             208   \n",
       "4                                                  0              42   \n",
       "\n",
       "   Base MSRP  Legislative District  DOL Vehicle ID  \\\n",
       "0          0                    43       202233958   \n",
       "1          0                    15       264425178   \n",
       "2          0                    11       114962025   \n",
       "3          0                     1       232724670   \n",
       "4          0                    14       221023589   \n",
       "\n",
       "                  Vehicle Location  \\\n",
       "0    POINT (-122.300312 47.629782)   \n",
       "1  POINT (-120.2658133 46.4063477)   \n",
       "2    POINT (-122.201564 47.402358)   \n",
       "3    POINT (-122.206146 47.839957)   \n",
       "4    POINT (-120.611068 46.596645)   \n",
       "\n",
       "                                Electric Utility  2020 Census Tract  \n",
       "0   CITY OF SEATTLE - (WA)|CITY OF TACOMA - (WA)        53033006500  \n",
       "1                                     PACIFICORP        53077002201  \n",
       "2  PUGET SOUND ENERGY INC||CITY OF TACOMA - (WA)        53033029306  \n",
       "3                         PUGET SOUND ENERGY INC        53061052107  \n",
       "4                                     PACIFICORP        53077000902  "
      ]
     },
     "execution_count": 27,
     "metadata": {},
     "output_type": "execute_result"
    }
   ],
   "source": [
    "# Vehicle Location can be converted into x coordinates and y coordinates  ----> Feature Engineering\n",
    "\n",
    "df.head()"
   ]
  },
  {
   "cell_type": "code",
   "execution_count": 28,
   "id": "be519911",
   "metadata": {
    "execution": {
     "iopub.execute_input": "2024-07-22T20:33:11.199747Z",
     "iopub.status.busy": "2024-07-22T20:33:11.199371Z",
     "iopub.status.idle": "2024-07-22T20:33:11.206126Z",
     "shell.execute_reply": "2024-07-22T20:33:11.205105Z"
    },
    "id": "LmLU99lmx_r8",
    "outputId": "a8105df7-c286-4d57-d4d3-c762843fe6b5",
    "papermill": {
     "duration": 0.029281,
     "end_time": "2024-07-22T20:33:11.209321",
     "exception": false,
     "start_time": "2024-07-22T20:33:11.180040",
     "status": "completed"
    },
    "tags": []
   },
   "outputs": [
    {
     "name": "stdout",
     "output_type": "stream",
     "text": [
      "-122.300312\n",
      "47.629782\n"
     ]
    }
   ],
   "source": [
    "\n",
    "df[\"Vehicle Location\"][0]\n",
    "\n",
    "coordinate_string = df[\"Vehicle Location\"][0].replace(\"POINT (\",\"\").replace(\")\",\"\")\n",
    "\n",
    "longitude , latitude = map(float,coordinate_string.split())\n",
    "\n",
    "print(longitude)\n",
    "print(latitude)"
   ]
  },
  {
   "cell_type": "code",
   "execution_count": 29,
   "id": "79b6b69f",
   "metadata": {
    "execution": {
     "iopub.execute_input": "2024-07-22T20:33:11.245923Z",
     "iopub.status.busy": "2024-07-22T20:33:11.245548Z",
     "iopub.status.idle": "2024-07-22T20:33:11.254433Z",
     "shell.execute_reply": "2024-07-22T20:33:11.253179Z"
    },
    "id": "9OTdfgv13rVR",
    "outputId": "ac322a0a-c5cd-45af-e162-dc63cec827fa",
    "papermill": {
     "duration": 0.030042,
     "end_time": "2024-07-22T20:33:11.257097",
     "exception": false,
     "start_time": "2024-07-22T20:33:11.227055",
     "status": "completed"
    },
    "tags": []
   },
   "outputs": [
    {
     "data": {
      "text/plain": [
       "0      POINT (-122.300312 47.629782)\n",
       "1    POINT (-120.2658133 46.4063477)\n",
       "2      POINT (-122.201564 47.402358)\n",
       "3      POINT (-122.206146 47.839957)\n",
       "4      POINT (-120.611068 46.596645)\n",
       "Name: Vehicle Location, dtype: object"
      ]
     },
     "execution_count": 29,
     "metadata": {},
     "output_type": "execute_result"
    }
   ],
   "source": [
    "df[\"Vehicle Location\"].head()"
   ]
  },
  {
   "cell_type": "code",
   "execution_count": 30,
   "id": "bdc15db9",
   "metadata": {
    "execution": {
     "iopub.execute_input": "2024-07-22T20:33:11.293015Z",
     "iopub.status.busy": "2024-07-22T20:33:11.292625Z",
     "iopub.status.idle": "2024-07-22T20:33:12.064760Z",
     "shell.execute_reply": "2024-07-22T20:33:12.063176Z"
    },
    "id": "XiOhmWARyb5L",
    "papermill": {
     "duration": 0.793443,
     "end_time": "2024-07-22T20:33:12.067638",
     "exception": false,
     "start_time": "2024-07-22T20:33:11.274195",
     "status": "completed"
    },
    "tags": []
   },
   "outputs": [],
   "source": [
    "df[[\"X_Coordinate\",\"Y_Coordinate\"]] = df[\"Vehicle Location\"].str.extract(r'POINT \\(([-\\d.]+) ([\\d.]+)\\)')\n",
    "df[\"X_Coordinate\"] = pd.to_numeric(df[\"X_Coordinate\"],errors='coerce')\n",
    "df[\"Y_Coordinate\"] = pd.to_numeric(df[\"Y_Coordinate\"],errors='coerce')"
   ]
  },
  {
   "cell_type": "code",
   "execution_count": 31,
   "id": "ea2bd3c9",
   "metadata": {
    "execution": {
     "iopub.execute_input": "2024-07-22T20:33:12.102928Z",
     "iopub.status.busy": "2024-07-22T20:33:12.102537Z",
     "iopub.status.idle": "2024-07-22T20:33:12.145783Z",
     "shell.execute_reply": "2024-07-22T20:33:12.144733Z"
    },
    "id": "zsCxJm5gzsce",
    "outputId": "78202041-3b23-48df-e3ef-5cac2bda88ec",
    "papermill": {
     "duration": 0.064154,
     "end_time": "2024-07-22T20:33:12.148507",
     "exception": false,
     "start_time": "2024-07-22T20:33:12.084353",
     "status": "completed"
    },
    "tags": []
   },
   "outputs": [
    {
     "data": {
      "text/html": [
       "<div>\n",
       "<style scoped>\n",
       "    .dataframe tbody tr th:only-of-type {\n",
       "        vertical-align: middle;\n",
       "    }\n",
       "\n",
       "    .dataframe tbody tr th {\n",
       "        vertical-align: top;\n",
       "    }\n",
       "\n",
       "    .dataframe thead th {\n",
       "        text-align: right;\n",
       "    }\n",
       "</style>\n",
       "<table border=\"1\" class=\"dataframe\">\n",
       "  <thead>\n",
       "    <tr style=\"text-align: right;\">\n",
       "      <th></th>\n",
       "      <th>VIN (1-10)</th>\n",
       "      <th>County</th>\n",
       "      <th>City</th>\n",
       "      <th>State</th>\n",
       "      <th>Postal Code</th>\n",
       "      <th>Model Year</th>\n",
       "      <th>Make</th>\n",
       "      <th>Model</th>\n",
       "      <th>Electric Vehicle Type</th>\n",
       "      <th>Clean Alternative Fuel Vehicle (CAFV) Eligibility</th>\n",
       "      <th>Electric Range</th>\n",
       "      <th>Base MSRP</th>\n",
       "      <th>Legislative District</th>\n",
       "      <th>DOL Vehicle ID</th>\n",
       "      <th>Electric Utility</th>\n",
       "      <th>2020 Census Tract</th>\n",
       "      <th>X_Coordinate</th>\n",
       "      <th>Y_Coordinate</th>\n",
       "    </tr>\n",
       "  </thead>\n",
       "  <tbody>\n",
       "    <tr>\n",
       "      <th>0</th>\n",
       "      <td>5YJSA1E22K</td>\n",
       "      <td>King</td>\n",
       "      <td>Seattle</td>\n",
       "      <td>WA</td>\n",
       "      <td>98112</td>\n",
       "      <td>2019</td>\n",
       "      <td>TESLA</td>\n",
       "      <td>MODEL S</td>\n",
       "      <td>0</td>\n",
       "      <td>0</td>\n",
       "      <td>270</td>\n",
       "      <td>0</td>\n",
       "      <td>43</td>\n",
       "      <td>202233958</td>\n",
       "      <td>CITY OF SEATTLE - (WA)|CITY OF TACOMA - (WA)</td>\n",
       "      <td>53033006500</td>\n",
       "      <td>-122.300312</td>\n",
       "      <td>47.629782</td>\n",
       "    </tr>\n",
       "    <tr>\n",
       "      <th>1</th>\n",
       "      <td>3MW39FS05R</td>\n",
       "      <td>Yakima</td>\n",
       "      <td>Zillah</td>\n",
       "      <td>WA</td>\n",
       "      <td>98953</td>\n",
       "      <td>2024</td>\n",
       "      <td>BMW</td>\n",
       "      <td>330E</td>\n",
       "      <td>1</td>\n",
       "      <td>2</td>\n",
       "      <td>20</td>\n",
       "      <td>0</td>\n",
       "      <td>15</td>\n",
       "      <td>264425178</td>\n",
       "      <td>PACIFICORP</td>\n",
       "      <td>53077002201</td>\n",
       "      <td>-120.265813</td>\n",
       "      <td>46.406348</td>\n",
       "    </tr>\n",
       "    <tr>\n",
       "      <th>2</th>\n",
       "      <td>1N4AZ0CP0F</td>\n",
       "      <td>King</td>\n",
       "      <td>Kent</td>\n",
       "      <td>WA</td>\n",
       "      <td>98031</td>\n",
       "      <td>2015</td>\n",
       "      <td>NISSAN</td>\n",
       "      <td>LEAF</td>\n",
       "      <td>0</td>\n",
       "      <td>0</td>\n",
       "      <td>84</td>\n",
       "      <td>0</td>\n",
       "      <td>11</td>\n",
       "      <td>114962025</td>\n",
       "      <td>PUGET SOUND ENERGY INC||CITY OF TACOMA - (WA)</td>\n",
       "      <td>53033029306</td>\n",
       "      <td>-122.201564</td>\n",
       "      <td>47.402358</td>\n",
       "    </tr>\n",
       "    <tr>\n",
       "      <th>3</th>\n",
       "      <td>5YJSA1H20F</td>\n",
       "      <td>Snohomish</td>\n",
       "      <td>Bothell</td>\n",
       "      <td>WA</td>\n",
       "      <td>98012</td>\n",
       "      <td>2015</td>\n",
       "      <td>TESLA</td>\n",
       "      <td>MODEL S</td>\n",
       "      <td>0</td>\n",
       "      <td>0</td>\n",
       "      <td>208</td>\n",
       "      <td>0</td>\n",
       "      <td>1</td>\n",
       "      <td>232724670</td>\n",
       "      <td>PUGET SOUND ENERGY INC</td>\n",
       "      <td>53061052107</td>\n",
       "      <td>-122.206146</td>\n",
       "      <td>47.839957</td>\n",
       "    </tr>\n",
       "    <tr>\n",
       "      <th>4</th>\n",
       "      <td>JTMAB3FV1N</td>\n",
       "      <td>Yakima</td>\n",
       "      <td>Yakima</td>\n",
       "      <td>WA</td>\n",
       "      <td>98908</td>\n",
       "      <td>2022</td>\n",
       "      <td>TOYOTA</td>\n",
       "      <td>RAV4 PRIME</td>\n",
       "      <td>1</td>\n",
       "      <td>0</td>\n",
       "      <td>42</td>\n",
       "      <td>0</td>\n",
       "      <td>14</td>\n",
       "      <td>221023589</td>\n",
       "      <td>PACIFICORP</td>\n",
       "      <td>53077000902</td>\n",
       "      <td>-120.611068</td>\n",
       "      <td>46.596645</td>\n",
       "    </tr>\n",
       "    <tr>\n",
       "      <th>...</th>\n",
       "      <td>...</td>\n",
       "      <td>...</td>\n",
       "      <td>...</td>\n",
       "      <td>...</td>\n",
       "      <td>...</td>\n",
       "      <td>...</td>\n",
       "      <td>...</td>\n",
       "      <td>...</td>\n",
       "      <td>...</td>\n",
       "      <td>...</td>\n",
       "      <td>...</td>\n",
       "      <td>...</td>\n",
       "      <td>...</td>\n",
       "      <td>...</td>\n",
       "      <td>...</td>\n",
       "      <td>...</td>\n",
       "      <td>...</td>\n",
       "      <td>...</td>\n",
       "    </tr>\n",
       "    <tr>\n",
       "      <th>191402</th>\n",
       "      <td>5YJ3E1EA0K</td>\n",
       "      <td>Pierce</td>\n",
       "      <td>Sumner</td>\n",
       "      <td>WA</td>\n",
       "      <td>98390</td>\n",
       "      <td>2019</td>\n",
       "      <td>TESLA</td>\n",
       "      <td>MODEL 3</td>\n",
       "      <td>0</td>\n",
       "      <td>0</td>\n",
       "      <td>220</td>\n",
       "      <td>0</td>\n",
       "      <td>31</td>\n",
       "      <td>314927896</td>\n",
       "      <td>PUGET SOUND ENERGY INC||CITY OF TACOMA - (WA)</td>\n",
       "      <td>53053073302</td>\n",
       "      <td>-122.233785</td>\n",
       "      <td>47.205597</td>\n",
       "    </tr>\n",
       "    <tr>\n",
       "      <th>191403</th>\n",
       "      <td>JN1BF0BA7P</td>\n",
       "      <td>Pierce</td>\n",
       "      <td>Wilkeson</td>\n",
       "      <td>WA</td>\n",
       "      <td>98396</td>\n",
       "      <td>2023</td>\n",
       "      <td>NISSAN</td>\n",
       "      <td>ARIYA</td>\n",
       "      <td>0</td>\n",
       "      <td>1</td>\n",
       "      <td>0</td>\n",
       "      <td>0</td>\n",
       "      <td>31</td>\n",
       "      <td>236213120</td>\n",
       "      <td>PUGET SOUND ENERGY INC||CITY OF TACOMA - (WA)</td>\n",
       "      <td>53053070206</td>\n",
       "      <td>-122.047854</td>\n",
       "      <td>47.107559</td>\n",
       "    </tr>\n",
       "    <tr>\n",
       "      <th>191404</th>\n",
       "      <td>7SAYGDEE4R</td>\n",
       "      <td>King</td>\n",
       "      <td>Fall City</td>\n",
       "      <td>WA</td>\n",
       "      <td>98024</td>\n",
       "      <td>2024</td>\n",
       "      <td>TESLA</td>\n",
       "      <td>MODEL Y</td>\n",
       "      <td>0</td>\n",
       "      <td>1</td>\n",
       "      <td>0</td>\n",
       "      <td>0</td>\n",
       "      <td>5</td>\n",
       "      <td>261335896</td>\n",
       "      <td>PUGET SOUND ENERGY INC||CITY OF TACOMA - (WA)</td>\n",
       "      <td>53033032601</td>\n",
       "      <td>-121.903093</td>\n",
       "      <td>47.567116</td>\n",
       "    </tr>\n",
       "    <tr>\n",
       "      <th>191405</th>\n",
       "      <td>7SAXCBE65N</td>\n",
       "      <td>Grays Harbor</td>\n",
       "      <td>Aberdeen</td>\n",
       "      <td>WA</td>\n",
       "      <td>98520</td>\n",
       "      <td>2022</td>\n",
       "      <td>TESLA</td>\n",
       "      <td>MODEL X</td>\n",
       "      <td>0</td>\n",
       "      <td>1</td>\n",
       "      <td>0</td>\n",
       "      <td>0</td>\n",
       "      <td>19</td>\n",
       "      <td>219273491</td>\n",
       "      <td>BONNEVILLE POWER ADMINISTRATION||PUD NO 1 OF G...</td>\n",
       "      <td>53027001100</td>\n",
       "      <td>-123.807422</td>\n",
       "      <td>46.978243</td>\n",
       "    </tr>\n",
       "    <tr>\n",
       "      <th>191406</th>\n",
       "      <td>7SAYGAEEXP</td>\n",
       "      <td>Benton</td>\n",
       "      <td>Richland</td>\n",
       "      <td>WA</td>\n",
       "      <td>99352</td>\n",
       "      <td>2023</td>\n",
       "      <td>TESLA</td>\n",
       "      <td>MODEL Y</td>\n",
       "      <td>0</td>\n",
       "      <td>1</td>\n",
       "      <td>0</td>\n",
       "      <td>0</td>\n",
       "      <td>8</td>\n",
       "      <td>233761440</td>\n",
       "      <td>BONNEVILLE POWER ADMINISTRATION||CITY OF RICHL...</td>\n",
       "      <td>53005010811</td>\n",
       "      <td>-119.295853</td>\n",
       "      <td>46.242142</td>\n",
       "    </tr>\n",
       "  </tbody>\n",
       "</table>\n",
       "<p>191407 rows × 18 columns</p>\n",
       "</div>"
      ],
      "text/plain": [
       "        VIN (1-10)        County       City State  Postal Code  Model Year  \\\n",
       "0       5YJSA1E22K          King    Seattle    WA        98112        2019   \n",
       "1       3MW39FS05R        Yakima     Zillah    WA        98953        2024   \n",
       "2       1N4AZ0CP0F          King       Kent    WA        98031        2015   \n",
       "3       5YJSA1H20F     Snohomish    Bothell    WA        98012        2015   \n",
       "4       JTMAB3FV1N        Yakima     Yakima    WA        98908        2022   \n",
       "...            ...           ...        ...   ...          ...         ...   \n",
       "191402  5YJ3E1EA0K        Pierce     Sumner    WA        98390        2019   \n",
       "191403  JN1BF0BA7P        Pierce   Wilkeson    WA        98396        2023   \n",
       "191404  7SAYGDEE4R          King  Fall City    WA        98024        2024   \n",
       "191405  7SAXCBE65N  Grays Harbor   Aberdeen    WA        98520        2022   \n",
       "191406  7SAYGAEEXP        Benton   Richland    WA        99352        2023   \n",
       "\n",
       "          Make       Model  Electric Vehicle Type  \\\n",
       "0        TESLA     MODEL S                      0   \n",
       "1          BMW        330E                      1   \n",
       "2       NISSAN        LEAF                      0   \n",
       "3        TESLA     MODEL S                      0   \n",
       "4       TOYOTA  RAV4 PRIME                      1   \n",
       "...        ...         ...                    ...   \n",
       "191402   TESLA     MODEL 3                      0   \n",
       "191403  NISSAN       ARIYA                      0   \n",
       "191404   TESLA     MODEL Y                      0   \n",
       "191405   TESLA     MODEL X                      0   \n",
       "191406   TESLA     MODEL Y                      0   \n",
       "\n",
       "        Clean Alternative Fuel Vehicle (CAFV) Eligibility  Electric Range  \\\n",
       "0                                                       0             270   \n",
       "1                                                       2              20   \n",
       "2                                                       0              84   \n",
       "3                                                       0             208   \n",
       "4                                                       0              42   \n",
       "...                                                   ...             ...   \n",
       "191402                                                  0             220   \n",
       "191403                                                  1               0   \n",
       "191404                                                  1               0   \n",
       "191405                                                  1               0   \n",
       "191406                                                  1               0   \n",
       "\n",
       "        Base MSRP  Legislative District  DOL Vehicle ID  \\\n",
       "0               0                    43       202233958   \n",
       "1               0                    15       264425178   \n",
       "2               0                    11       114962025   \n",
       "3               0                     1       232724670   \n",
       "4               0                    14       221023589   \n",
       "...           ...                   ...             ...   \n",
       "191402          0                    31       314927896   \n",
       "191403          0                    31       236213120   \n",
       "191404          0                     5       261335896   \n",
       "191405          0                    19       219273491   \n",
       "191406          0                     8       233761440   \n",
       "\n",
       "                                         Electric Utility  2020 Census Tract  \\\n",
       "0            CITY OF SEATTLE - (WA)|CITY OF TACOMA - (WA)        53033006500   \n",
       "1                                              PACIFICORP        53077002201   \n",
       "2           PUGET SOUND ENERGY INC||CITY OF TACOMA - (WA)        53033029306   \n",
       "3                                  PUGET SOUND ENERGY INC        53061052107   \n",
       "4                                              PACIFICORP        53077000902   \n",
       "...                                                   ...                ...   \n",
       "191402      PUGET SOUND ENERGY INC||CITY OF TACOMA - (WA)        53053073302   \n",
       "191403      PUGET SOUND ENERGY INC||CITY OF TACOMA - (WA)        53053070206   \n",
       "191404      PUGET SOUND ENERGY INC||CITY OF TACOMA - (WA)        53033032601   \n",
       "191405  BONNEVILLE POWER ADMINISTRATION||PUD NO 1 OF G...        53027001100   \n",
       "191406  BONNEVILLE POWER ADMINISTRATION||CITY OF RICHL...        53005010811   \n",
       "\n",
       "        X_Coordinate  Y_Coordinate  \n",
       "0        -122.300312     47.629782  \n",
       "1        -120.265813     46.406348  \n",
       "2        -122.201564     47.402358  \n",
       "3        -122.206146     47.839957  \n",
       "4        -120.611068     46.596645  \n",
       "...              ...           ...  \n",
       "191402   -122.233785     47.205597  \n",
       "191403   -122.047854     47.107559  \n",
       "191404   -121.903093     47.567116  \n",
       "191405   -123.807422     46.978243  \n",
       "191406   -119.295853     46.242142  \n",
       "\n",
       "[191407 rows x 18 columns]"
      ]
     },
     "execution_count": 31,
     "metadata": {},
     "output_type": "execute_result"
    }
   ],
   "source": [
    "df.drop([\"Vehicle Location\"],axis=1)"
   ]
  },
  {
   "cell_type": "code",
   "execution_count": 32,
   "id": "97443c95",
   "metadata": {
    "execution": {
     "iopub.execute_input": "2024-07-22T20:33:12.185544Z",
     "iopub.status.busy": "2024-07-22T20:33:12.185110Z",
     "iopub.status.idle": "2024-07-22T20:33:12.272452Z",
     "shell.execute_reply": "2024-07-22T20:33:12.271232Z"
    },
    "id": "IbtrWENw5AoE",
    "outputId": "228530ae-946d-4f03-ac16-a09f6b0826f0",
    "papermill": {
     "duration": 0.109063,
     "end_time": "2024-07-22T20:33:12.274874",
     "exception": false,
     "start_time": "2024-07-22T20:33:12.165811",
     "status": "completed"
    },
    "tags": []
   },
   "outputs": [
    {
     "name": "stdout",
     "output_type": "stream",
     "text": [
      "<class 'pandas.core.frame.DataFrame'>\n",
      "RangeIndex: 191407 entries, 0 to 191406\n",
      "Data columns (total 19 columns):\n",
      " #   Column                                             Non-Null Count   Dtype  \n",
      "---  ------                                             --------------   -----  \n",
      " 0   VIN (1-10)                                         191407 non-null  object \n",
      " 1   County                                             191407 non-null  object \n",
      " 2   City                                               191407 non-null  object \n",
      " 3   State                                              191407 non-null  object \n",
      " 4   Postal Code                                        191407 non-null  int64  \n",
      " 5   Model Year                                         191407 non-null  int64  \n",
      " 6   Make                                               191407 non-null  object \n",
      " 7   Model                                              191407 non-null  object \n",
      " 8   Electric Vehicle Type                              191407 non-null  int64  \n",
      " 9   Clean Alternative Fuel Vehicle (CAFV) Eligibility  191407 non-null  int64  \n",
      " 10  Electric Range                                     191407 non-null  int64  \n",
      " 11  Base MSRP                                          191407 non-null  int64  \n",
      " 12  Legislative District                               191407 non-null  int64  \n",
      " 13  DOL Vehicle ID                                     191407 non-null  int64  \n",
      " 14  Vehicle Location                                   191407 non-null  object \n",
      " 15  Electric Utility                                   191407 non-null  object \n",
      " 16  2020 Census Tract                                  191407 non-null  int64  \n",
      " 17  X_Coordinate                                       191399 non-null  float64\n",
      " 18  Y_Coordinate                                       191399 non-null  float64\n",
      "dtypes: float64(2), int64(9), object(8)\n",
      "memory usage: 27.7+ MB\n"
     ]
    }
   ],
   "source": [
    "df.info()"
   ]
  },
  {
   "cell_type": "code",
   "execution_count": 33,
   "id": "3d91f32b",
   "metadata": {
    "execution": {
     "iopub.execute_input": "2024-07-22T20:33:12.311938Z",
     "iopub.status.busy": "2024-07-22T20:33:12.311570Z",
     "iopub.status.idle": "2024-07-22T20:33:12.323646Z",
     "shell.execute_reply": "2024-07-22T20:33:12.322529Z"
    },
    "id": "gl7926Hy5Jml",
    "outputId": "60a1dab7-f3d2-4f57-bbd4-e1e87bd37d51",
    "papermill": {
     "duration": 0.033488,
     "end_time": "2024-07-22T20:33:12.326268",
     "exception": false,
     "start_time": "2024-07-22T20:33:12.292780",
     "status": "completed"
    },
    "tags": []
   },
   "outputs": [
    {
     "data": {
      "text/plain": [
       "-122.2753318"
      ]
     },
     "execution_count": 33,
     "metadata": {},
     "output_type": "execute_result"
    }
   ],
   "source": [
    "df[\"X_Coordinate\"].median()"
   ]
  },
  {
   "cell_type": "code",
   "execution_count": 34,
   "id": "30d894ae",
   "metadata": {
    "execution": {
     "iopub.execute_input": "2024-07-22T20:33:12.364463Z",
     "iopub.status.busy": "2024-07-22T20:33:12.363850Z",
     "iopub.status.idle": "2024-07-22T20:33:12.381482Z",
     "shell.execute_reply": "2024-07-22T20:33:12.380250Z"
    },
    "id": "4Omlh4Zb5YwS",
    "papermill": {
     "duration": 0.03989,
     "end_time": "2024-07-22T20:33:12.384196",
     "exception": false,
     "start_time": "2024-07-22T20:33:12.344306",
     "status": "completed"
    },
    "tags": []
   },
   "outputs": [],
   "source": [
    "df['X_Coordinate']  = df[\"X_Coordinate\"].fillna(df[\"X_Coordinate\"].median())\n",
    "df['Y_Coordinate']  = df[\"Y_Coordinate\"].fillna(df[\"Y_Coordinate\"].median())"
   ]
  },
  {
   "cell_type": "code",
   "execution_count": 35,
   "id": "197a1c8d",
   "metadata": {
    "execution": {
     "iopub.execute_input": "2024-07-22T20:33:12.420887Z",
     "iopub.status.busy": "2024-07-22T20:33:12.420480Z",
     "iopub.status.idle": "2024-07-22T20:33:12.502100Z",
     "shell.execute_reply": "2024-07-22T20:33:12.500998Z"
    },
    "id": "GhN7vzRn5lto",
    "outputId": "cae4e3f7-d38a-404a-c79f-c366844cefa3",
    "papermill": {
     "duration": 0.103277,
     "end_time": "2024-07-22T20:33:12.504982",
     "exception": false,
     "start_time": "2024-07-22T20:33:12.401705",
     "status": "completed"
    },
    "tags": []
   },
   "outputs": [
    {
     "data": {
      "text/plain": [
       "VIN (1-10)                                           0\n",
       "County                                               0\n",
       "City                                                 0\n",
       "State                                                0\n",
       "Postal Code                                          0\n",
       "Model Year                                           0\n",
       "Make                                                 0\n",
       "Model                                                0\n",
       "Electric Vehicle Type                                0\n",
       "Clean Alternative Fuel Vehicle (CAFV) Eligibility    0\n",
       "Electric Range                                       0\n",
       "Base MSRP                                            0\n",
       "Legislative District                                 0\n",
       "DOL Vehicle ID                                       0\n",
       "Vehicle Location                                     0\n",
       "Electric Utility                                     0\n",
       "2020 Census Tract                                    0\n",
       "X_Coordinate                                         0\n",
       "Y_Coordinate                                         0\n",
       "dtype: int64"
      ]
     },
     "execution_count": 35,
     "metadata": {},
     "output_type": "execute_result"
    }
   ],
   "source": [
    "df.isnull().sum()"
   ]
  },
  {
   "cell_type": "code",
   "execution_count": 36,
   "id": "b12e1ed6",
   "metadata": {
    "execution": {
     "iopub.execute_input": "2024-07-22T20:33:12.543931Z",
     "iopub.status.busy": "2024-07-22T20:33:12.543129Z",
     "iopub.status.idle": "2024-07-22T20:33:12.551326Z",
     "shell.execute_reply": "2024-07-22T20:33:12.550326Z"
    },
    "id": "6ChFPtSB3R2n",
    "papermill": {
     "duration": 0.029595,
     "end_time": "2024-07-22T20:33:12.553965",
     "exception": false,
     "start_time": "2024-07-22T20:33:12.524370",
     "status": "completed"
    },
    "tags": []
   },
   "outputs": [],
   "source": [
    "\n",
    "df[\"X_Coordinate\"] = df[\"X_Coordinate\"].astype(int)\n",
    "df[\"Y_Coordinate\"] = df[\"Y_Coordinate\"].astype(int)\n"
   ]
  },
  {
   "cell_type": "code",
   "execution_count": 37,
   "id": "d72ca491",
   "metadata": {
    "execution": {
     "iopub.execute_input": "2024-07-22T20:33:12.592124Z",
     "iopub.status.busy": "2024-07-22T20:33:12.591736Z",
     "iopub.status.idle": "2024-07-22T20:33:12.629985Z",
     "shell.execute_reply": "2024-07-22T20:33:12.628673Z"
    },
    "id": "aoGZHlLP5z7N",
    "papermill": {
     "duration": 0.060087,
     "end_time": "2024-07-22T20:33:12.632668",
     "exception": false,
     "start_time": "2024-07-22T20:33:12.572581",
     "status": "completed"
    },
    "tags": []
   },
   "outputs": [],
   "source": [
    "df = df.drop(\"Vehicle Location\",axis=1)"
   ]
  },
  {
   "cell_type": "code",
   "execution_count": 38,
   "id": "dc7f59a5",
   "metadata": {
    "execution": {
     "iopub.execute_input": "2024-07-22T20:33:12.670321Z",
     "iopub.status.busy": "2024-07-22T20:33:12.669938Z",
     "iopub.status.idle": "2024-07-22T20:33:12.687098Z",
     "shell.execute_reply": "2024-07-22T20:33:12.685984Z"
    },
    "id": "iFTRtNGW52_O",
    "outputId": "1bc49dd6-3efe-4190-e1d6-763677b05500",
    "papermill": {
     "duration": 0.039529,
     "end_time": "2024-07-22T20:33:12.689647",
     "exception": false,
     "start_time": "2024-07-22T20:33:12.650118",
     "status": "completed"
    },
    "tags": []
   },
   "outputs": [
    {
     "data": {
      "text/html": [
       "<div>\n",
       "<style scoped>\n",
       "    .dataframe tbody tr th:only-of-type {\n",
       "        vertical-align: middle;\n",
       "    }\n",
       "\n",
       "    .dataframe tbody tr th {\n",
       "        vertical-align: top;\n",
       "    }\n",
       "\n",
       "    .dataframe thead th {\n",
       "        text-align: right;\n",
       "    }\n",
       "</style>\n",
       "<table border=\"1\" class=\"dataframe\">\n",
       "  <thead>\n",
       "    <tr style=\"text-align: right;\">\n",
       "      <th></th>\n",
       "      <th>VIN (1-10)</th>\n",
       "      <th>County</th>\n",
       "      <th>City</th>\n",
       "      <th>State</th>\n",
       "      <th>Postal Code</th>\n",
       "      <th>Model Year</th>\n",
       "      <th>Make</th>\n",
       "      <th>Model</th>\n",
       "      <th>Electric Vehicle Type</th>\n",
       "      <th>Clean Alternative Fuel Vehicle (CAFV) Eligibility</th>\n",
       "      <th>Electric Range</th>\n",
       "      <th>Base MSRP</th>\n",
       "      <th>Legislative District</th>\n",
       "      <th>DOL Vehicle ID</th>\n",
       "      <th>Electric Utility</th>\n",
       "      <th>2020 Census Tract</th>\n",
       "      <th>X_Coordinate</th>\n",
       "      <th>Y_Coordinate</th>\n",
       "    </tr>\n",
       "  </thead>\n",
       "  <tbody>\n",
       "    <tr>\n",
       "      <th>0</th>\n",
       "      <td>5YJSA1E22K</td>\n",
       "      <td>King</td>\n",
       "      <td>Seattle</td>\n",
       "      <td>WA</td>\n",
       "      <td>98112</td>\n",
       "      <td>2019</td>\n",
       "      <td>TESLA</td>\n",
       "      <td>MODEL S</td>\n",
       "      <td>0</td>\n",
       "      <td>0</td>\n",
       "      <td>270</td>\n",
       "      <td>0</td>\n",
       "      <td>43</td>\n",
       "      <td>202233958</td>\n",
       "      <td>CITY OF SEATTLE - (WA)|CITY OF TACOMA - (WA)</td>\n",
       "      <td>53033006500</td>\n",
       "      <td>-122</td>\n",
       "      <td>47</td>\n",
       "    </tr>\n",
       "    <tr>\n",
       "      <th>1</th>\n",
       "      <td>3MW39FS05R</td>\n",
       "      <td>Yakima</td>\n",
       "      <td>Zillah</td>\n",
       "      <td>WA</td>\n",
       "      <td>98953</td>\n",
       "      <td>2024</td>\n",
       "      <td>BMW</td>\n",
       "      <td>330E</td>\n",
       "      <td>1</td>\n",
       "      <td>2</td>\n",
       "      <td>20</td>\n",
       "      <td>0</td>\n",
       "      <td>15</td>\n",
       "      <td>264425178</td>\n",
       "      <td>PACIFICORP</td>\n",
       "      <td>53077002201</td>\n",
       "      <td>-120</td>\n",
       "      <td>46</td>\n",
       "    </tr>\n",
       "    <tr>\n",
       "      <th>2</th>\n",
       "      <td>1N4AZ0CP0F</td>\n",
       "      <td>King</td>\n",
       "      <td>Kent</td>\n",
       "      <td>WA</td>\n",
       "      <td>98031</td>\n",
       "      <td>2015</td>\n",
       "      <td>NISSAN</td>\n",
       "      <td>LEAF</td>\n",
       "      <td>0</td>\n",
       "      <td>0</td>\n",
       "      <td>84</td>\n",
       "      <td>0</td>\n",
       "      <td>11</td>\n",
       "      <td>114962025</td>\n",
       "      <td>PUGET SOUND ENERGY INC||CITY OF TACOMA - (WA)</td>\n",
       "      <td>53033029306</td>\n",
       "      <td>-122</td>\n",
       "      <td>47</td>\n",
       "    </tr>\n",
       "    <tr>\n",
       "      <th>3</th>\n",
       "      <td>5YJSA1H20F</td>\n",
       "      <td>Snohomish</td>\n",
       "      <td>Bothell</td>\n",
       "      <td>WA</td>\n",
       "      <td>98012</td>\n",
       "      <td>2015</td>\n",
       "      <td>TESLA</td>\n",
       "      <td>MODEL S</td>\n",
       "      <td>0</td>\n",
       "      <td>0</td>\n",
       "      <td>208</td>\n",
       "      <td>0</td>\n",
       "      <td>1</td>\n",
       "      <td>232724670</td>\n",
       "      <td>PUGET SOUND ENERGY INC</td>\n",
       "      <td>53061052107</td>\n",
       "      <td>-122</td>\n",
       "      <td>47</td>\n",
       "    </tr>\n",
       "    <tr>\n",
       "      <th>4</th>\n",
       "      <td>JTMAB3FV1N</td>\n",
       "      <td>Yakima</td>\n",
       "      <td>Yakima</td>\n",
       "      <td>WA</td>\n",
       "      <td>98908</td>\n",
       "      <td>2022</td>\n",
       "      <td>TOYOTA</td>\n",
       "      <td>RAV4 PRIME</td>\n",
       "      <td>1</td>\n",
       "      <td>0</td>\n",
       "      <td>42</td>\n",
       "      <td>0</td>\n",
       "      <td>14</td>\n",
       "      <td>221023589</td>\n",
       "      <td>PACIFICORP</td>\n",
       "      <td>53077000902</td>\n",
       "      <td>-120</td>\n",
       "      <td>46</td>\n",
       "    </tr>\n",
       "  </tbody>\n",
       "</table>\n",
       "</div>"
      ],
      "text/plain": [
       "   VIN (1-10)     County     City State  Postal Code  Model Year    Make  \\\n",
       "0  5YJSA1E22K       King  Seattle    WA        98112        2019   TESLA   \n",
       "1  3MW39FS05R     Yakima   Zillah    WA        98953        2024     BMW   \n",
       "2  1N4AZ0CP0F       King     Kent    WA        98031        2015  NISSAN   \n",
       "3  5YJSA1H20F  Snohomish  Bothell    WA        98012        2015   TESLA   \n",
       "4  JTMAB3FV1N     Yakima   Yakima    WA        98908        2022  TOYOTA   \n",
       "\n",
       "        Model  Electric Vehicle Type  \\\n",
       "0     MODEL S                      0   \n",
       "1        330E                      1   \n",
       "2        LEAF                      0   \n",
       "3     MODEL S                      0   \n",
       "4  RAV4 PRIME                      1   \n",
       "\n",
       "   Clean Alternative Fuel Vehicle (CAFV) Eligibility  Electric Range  \\\n",
       "0                                                  0             270   \n",
       "1                                                  2              20   \n",
       "2                                                  0              84   \n",
       "3                                                  0             208   \n",
       "4                                                  0              42   \n",
       "\n",
       "   Base MSRP  Legislative District  DOL Vehicle ID  \\\n",
       "0          0                    43       202233958   \n",
       "1          0                    15       264425178   \n",
       "2          0                    11       114962025   \n",
       "3          0                     1       232724670   \n",
       "4          0                    14       221023589   \n",
       "\n",
       "                                Electric Utility  2020 Census Tract  \\\n",
       "0   CITY OF SEATTLE - (WA)|CITY OF TACOMA - (WA)        53033006500   \n",
       "1                                     PACIFICORP        53077002201   \n",
       "2  PUGET SOUND ENERGY INC||CITY OF TACOMA - (WA)        53033029306   \n",
       "3                         PUGET SOUND ENERGY INC        53061052107   \n",
       "4                                     PACIFICORP        53077000902   \n",
       "\n",
       "   X_Coordinate  Y_Coordinate  \n",
       "0          -122            47  \n",
       "1          -120            46  \n",
       "2          -122            47  \n",
       "3          -122            47  \n",
       "4          -120            46  "
      ]
     },
     "execution_count": 38,
     "metadata": {},
     "output_type": "execute_result"
    }
   ],
   "source": [
    "df.head()"
   ]
  },
  {
   "cell_type": "code",
   "execution_count": 39,
   "id": "683f080c",
   "metadata": {
    "execution": {
     "iopub.execute_input": "2024-07-22T20:33:12.727320Z",
     "iopub.status.busy": "2024-07-22T20:33:12.726942Z",
     "iopub.status.idle": "2024-07-22T20:33:12.804667Z",
     "shell.execute_reply": "2024-07-22T20:33:12.803273Z"
    },
    "id": "m_5RaQb3D4J4",
    "outputId": "854d9af9-f890-4942-8802-65530ce7a202",
    "papermill": {
     "duration": 0.099828,
     "end_time": "2024-07-22T20:33:12.807489",
     "exception": false,
     "start_time": "2024-07-22T20:33:12.707661",
     "status": "completed"
    },
    "tags": []
   },
   "outputs": [
    {
     "name": "stdout",
     "output_type": "stream",
     "text": [
      "<class 'pandas.core.frame.DataFrame'>\n",
      "RangeIndex: 191407 entries, 0 to 191406\n",
      "Data columns (total 18 columns):\n",
      " #   Column                                             Non-Null Count   Dtype \n",
      "---  ------                                             --------------   ----- \n",
      " 0   VIN (1-10)                                         191407 non-null  object\n",
      " 1   County                                             191407 non-null  object\n",
      " 2   City                                               191407 non-null  object\n",
      " 3   State                                              191407 non-null  object\n",
      " 4   Postal Code                                        191407 non-null  int64 \n",
      " 5   Model Year                                         191407 non-null  int64 \n",
      " 6   Make                                               191407 non-null  object\n",
      " 7   Model                                              191407 non-null  object\n",
      " 8   Electric Vehicle Type                              191407 non-null  int64 \n",
      " 9   Clean Alternative Fuel Vehicle (CAFV) Eligibility  191407 non-null  int64 \n",
      " 10  Electric Range                                     191407 non-null  int64 \n",
      " 11  Base MSRP                                          191407 non-null  int64 \n",
      " 12  Legislative District                               191407 non-null  int64 \n",
      " 13  DOL Vehicle ID                                     191407 non-null  int64 \n",
      " 14  Electric Utility                                   191407 non-null  object\n",
      " 15  2020 Census Tract                                  191407 non-null  int64 \n",
      " 16  X_Coordinate                                       191407 non-null  int64 \n",
      " 17  Y_Coordinate                                       191407 non-null  int64 \n",
      "dtypes: int64(11), object(7)\n",
      "memory usage: 26.3+ MB\n"
     ]
    }
   ],
   "source": [
    "df.info()"
   ]
  },
  {
   "cell_type": "markdown",
   "id": "20bbdfab",
   "metadata": {
    "id": "FumgH6jJ7A5W",
    "papermill": {
     "duration": 0.018031,
     "end_time": "2024-07-22T20:33:12.843870",
     "exception": false,
     "start_time": "2024-07-22T20:33:12.825839",
     "status": "completed"
    },
    "tags": []
   },
   "source": [
    "# Visualisation\n"
   ]
  },
  {
   "cell_type": "code",
   "execution_count": 40,
   "id": "56edddcf",
   "metadata": {
    "execution": {
     "iopub.execute_input": "2024-07-22T20:33:12.881238Z",
     "iopub.status.busy": "2024-07-22T20:33:12.880845Z",
     "iopub.status.idle": "2024-07-22T20:33:13.657471Z",
     "shell.execute_reply": "2024-07-22T20:33:13.656161Z"
    },
    "id": "csLrPd-_EA_H",
    "papermill": {
     "duration": 0.798462,
     "end_time": "2024-07-22T20:33:13.660193",
     "exception": false,
     "start_time": "2024-07-22T20:33:12.861731",
     "status": "completed"
    },
    "tags": []
   },
   "outputs": [],
   "source": [
    "df = pd.read_csv(\"/kaggle/input/electric-vehicle-population-dataset/Electric_Vehicle_Population_Data.csv\")"
   ]
  },
  {
   "cell_type": "code",
   "execution_count": 41,
   "id": "b78c8c4c",
   "metadata": {
    "execution": {
     "iopub.execute_input": "2024-07-22T20:33:13.698730Z",
     "iopub.status.busy": "2024-07-22T20:33:13.698249Z",
     "iopub.status.idle": "2024-07-22T20:33:13.719365Z",
     "shell.execute_reply": "2024-07-22T20:33:13.718151Z"
    },
    "id": "rEAUUwtX5-1K",
    "outputId": "565a6958-d277-46ee-b30d-82997972e237",
    "papermill": {
     "duration": 0.04311,
     "end_time": "2024-07-22T20:33:13.721819",
     "exception": false,
     "start_time": "2024-07-22T20:33:13.678709",
     "status": "completed"
    },
    "tags": []
   },
   "outputs": [
    {
     "data": {
      "text/html": [
       "<div>\n",
       "<style scoped>\n",
       "    .dataframe tbody tr th:only-of-type {\n",
       "        vertical-align: middle;\n",
       "    }\n",
       "\n",
       "    .dataframe tbody tr th {\n",
       "        vertical-align: top;\n",
       "    }\n",
       "\n",
       "    .dataframe thead th {\n",
       "        text-align: right;\n",
       "    }\n",
       "</style>\n",
       "<table border=\"1\" class=\"dataframe\">\n",
       "  <thead>\n",
       "    <tr style=\"text-align: right;\">\n",
       "      <th></th>\n",
       "      <th>VIN (1-10)</th>\n",
       "      <th>County</th>\n",
       "      <th>City</th>\n",
       "      <th>State</th>\n",
       "      <th>Postal Code</th>\n",
       "      <th>Model Year</th>\n",
       "      <th>Make</th>\n",
       "      <th>Model</th>\n",
       "      <th>Electric Vehicle Type</th>\n",
       "      <th>Clean Alternative Fuel Vehicle (CAFV) Eligibility</th>\n",
       "      <th>Electric Range</th>\n",
       "      <th>Base MSRP</th>\n",
       "      <th>Legislative District</th>\n",
       "      <th>DOL Vehicle ID</th>\n",
       "      <th>Vehicle Location</th>\n",
       "      <th>Electric Utility</th>\n",
       "      <th>2020 Census Tract</th>\n",
       "    </tr>\n",
       "  </thead>\n",
       "  <tbody>\n",
       "    <tr>\n",
       "      <th>0</th>\n",
       "      <td>5YJSA1E22K</td>\n",
       "      <td>King</td>\n",
       "      <td>Seattle</td>\n",
       "      <td>WA</td>\n",
       "      <td>98112.0</td>\n",
       "      <td>2019</td>\n",
       "      <td>TESLA</td>\n",
       "      <td>MODEL S</td>\n",
       "      <td>Battery Electric Vehicle (BEV)</td>\n",
       "      <td>Clean Alternative Fuel Vehicle Eligible</td>\n",
       "      <td>270</td>\n",
       "      <td>0</td>\n",
       "      <td>43.0</td>\n",
       "      <td>202233958</td>\n",
       "      <td>POINT (-122.300312 47.629782)</td>\n",
       "      <td>CITY OF SEATTLE - (WA)|CITY OF TACOMA - (WA)</td>\n",
       "      <td>5.303301e+10</td>\n",
       "    </tr>\n",
       "    <tr>\n",
       "      <th>1</th>\n",
       "      <td>3MW39FS05R</td>\n",
       "      <td>Yakima</td>\n",
       "      <td>Zillah</td>\n",
       "      <td>WA</td>\n",
       "      <td>98953.0</td>\n",
       "      <td>2024</td>\n",
       "      <td>BMW</td>\n",
       "      <td>330E</td>\n",
       "      <td>Plug-in Hybrid Electric Vehicle (PHEV)</td>\n",
       "      <td>Not eligible due to low battery range</td>\n",
       "      <td>20</td>\n",
       "      <td>0</td>\n",
       "      <td>15.0</td>\n",
       "      <td>264425178</td>\n",
       "      <td>POINT (-120.2658133 46.4063477)</td>\n",
       "      <td>PACIFICORP</td>\n",
       "      <td>5.307700e+10</td>\n",
       "    </tr>\n",
       "    <tr>\n",
       "      <th>2</th>\n",
       "      <td>1N4AZ0CP0F</td>\n",
       "      <td>King</td>\n",
       "      <td>Kent</td>\n",
       "      <td>WA</td>\n",
       "      <td>98031.0</td>\n",
       "      <td>2015</td>\n",
       "      <td>NISSAN</td>\n",
       "      <td>LEAF</td>\n",
       "      <td>Battery Electric Vehicle (BEV)</td>\n",
       "      <td>Clean Alternative Fuel Vehicle Eligible</td>\n",
       "      <td>84</td>\n",
       "      <td>0</td>\n",
       "      <td>11.0</td>\n",
       "      <td>114962025</td>\n",
       "      <td>POINT (-122.201564 47.402358)</td>\n",
       "      <td>PUGET SOUND ENERGY INC||CITY OF TACOMA - (WA)</td>\n",
       "      <td>5.303303e+10</td>\n",
       "    </tr>\n",
       "    <tr>\n",
       "      <th>3</th>\n",
       "      <td>5YJSA1H20F</td>\n",
       "      <td>Snohomish</td>\n",
       "      <td>Bothell</td>\n",
       "      <td>WA</td>\n",
       "      <td>98012.0</td>\n",
       "      <td>2015</td>\n",
       "      <td>TESLA</td>\n",
       "      <td>MODEL S</td>\n",
       "      <td>Battery Electric Vehicle (BEV)</td>\n",
       "      <td>Clean Alternative Fuel Vehicle Eligible</td>\n",
       "      <td>208</td>\n",
       "      <td>0</td>\n",
       "      <td>1.0</td>\n",
       "      <td>232724670</td>\n",
       "      <td>POINT (-122.206146 47.839957)</td>\n",
       "      <td>PUGET SOUND ENERGY INC</td>\n",
       "      <td>5.306105e+10</td>\n",
       "    </tr>\n",
       "    <tr>\n",
       "      <th>4</th>\n",
       "      <td>JTMAB3FV1N</td>\n",
       "      <td>Yakima</td>\n",
       "      <td>Yakima</td>\n",
       "      <td>WA</td>\n",
       "      <td>98908.0</td>\n",
       "      <td>2022</td>\n",
       "      <td>TOYOTA</td>\n",
       "      <td>RAV4 PRIME</td>\n",
       "      <td>Plug-in Hybrid Electric Vehicle (PHEV)</td>\n",
       "      <td>Clean Alternative Fuel Vehicle Eligible</td>\n",
       "      <td>42</td>\n",
       "      <td>0</td>\n",
       "      <td>14.0</td>\n",
       "      <td>221023589</td>\n",
       "      <td>POINT (-120.611068 46.596645)</td>\n",
       "      <td>PACIFICORP</td>\n",
       "      <td>5.307700e+10</td>\n",
       "    </tr>\n",
       "  </tbody>\n",
       "</table>\n",
       "</div>"
      ],
      "text/plain": [
       "   VIN (1-10)     County     City State  Postal Code  Model Year    Make  \\\n",
       "0  5YJSA1E22K       King  Seattle    WA      98112.0        2019   TESLA   \n",
       "1  3MW39FS05R     Yakima   Zillah    WA      98953.0        2024     BMW   \n",
       "2  1N4AZ0CP0F       King     Kent    WA      98031.0        2015  NISSAN   \n",
       "3  5YJSA1H20F  Snohomish  Bothell    WA      98012.0        2015   TESLA   \n",
       "4  JTMAB3FV1N     Yakima   Yakima    WA      98908.0        2022  TOYOTA   \n",
       "\n",
       "        Model                   Electric Vehicle Type  \\\n",
       "0     MODEL S          Battery Electric Vehicle (BEV)   \n",
       "1        330E  Plug-in Hybrid Electric Vehicle (PHEV)   \n",
       "2        LEAF          Battery Electric Vehicle (BEV)   \n",
       "3     MODEL S          Battery Electric Vehicle (BEV)   \n",
       "4  RAV4 PRIME  Plug-in Hybrid Electric Vehicle (PHEV)   \n",
       "\n",
       "  Clean Alternative Fuel Vehicle (CAFV) Eligibility  Electric Range  \\\n",
       "0           Clean Alternative Fuel Vehicle Eligible             270   \n",
       "1             Not eligible due to low battery range              20   \n",
       "2           Clean Alternative Fuel Vehicle Eligible              84   \n",
       "3           Clean Alternative Fuel Vehicle Eligible             208   \n",
       "4           Clean Alternative Fuel Vehicle Eligible              42   \n",
       "\n",
       "   Base MSRP  Legislative District  DOL Vehicle ID  \\\n",
       "0          0                  43.0       202233958   \n",
       "1          0                  15.0       264425178   \n",
       "2          0                  11.0       114962025   \n",
       "3          0                   1.0       232724670   \n",
       "4          0                  14.0       221023589   \n",
       "\n",
       "                  Vehicle Location  \\\n",
       "0    POINT (-122.300312 47.629782)   \n",
       "1  POINT (-120.2658133 46.4063477)   \n",
       "2    POINT (-122.201564 47.402358)   \n",
       "3    POINT (-122.206146 47.839957)   \n",
       "4    POINT (-120.611068 46.596645)   \n",
       "\n",
       "                                Electric Utility  2020 Census Tract  \n",
       "0   CITY OF SEATTLE - (WA)|CITY OF TACOMA - (WA)       5.303301e+10  \n",
       "1                                     PACIFICORP       5.307700e+10  \n",
       "2  PUGET SOUND ENERGY INC||CITY OF TACOMA - (WA)       5.303303e+10  \n",
       "3                         PUGET SOUND ENERGY INC       5.306105e+10  \n",
       "4                                     PACIFICORP       5.307700e+10  "
      ]
     },
     "execution_count": 41,
     "metadata": {},
     "output_type": "execute_result"
    }
   ],
   "source": [
    "df.head()"
   ]
  },
  {
   "cell_type": "markdown",
   "id": "19dfb021",
   "metadata": {
    "id": "gV_pL_kN9bZs",
    "papermill": {
     "duration": 0.018794,
     "end_time": "2024-07-22T20:33:13.759337",
     "exception": false,
     "start_time": "2024-07-22T20:33:13.740543",
     "status": "completed"
    },
    "tags": []
   },
   "source": [
    "### top 20 County with Electric Vechicle Manufactured"
   ]
  },
  {
   "cell_type": "code",
   "execution_count": 42,
   "id": "a9f894b7",
   "metadata": {
    "execution": {
     "iopub.execute_input": "2024-07-22T20:33:13.797680Z",
     "iopub.status.busy": "2024-07-22T20:33:13.797302Z",
     "iopub.status.idle": "2024-07-22T20:33:14.349428Z",
     "shell.execute_reply": "2024-07-22T20:33:14.347763Z"
    },
    "id": "jA1Jp7487Drg",
    "outputId": "26fc92a1-9505-4003-e993-b63f1f34a5e4",
    "papermill": {
     "duration": 0.574274,
     "end_time": "2024-07-22T20:33:14.352054",
     "exception": false,
     "start_time": "2024-07-22T20:33:13.777780",
     "status": "completed"
    },
    "tags": []
   },
   "outputs": [
    {
     "data": {
      "image/png": "[encoded data removed]",
      "text/plain": [
       "<Figure size 1000x600 with 1 Axes>"
      ]
     },
     "metadata": {},
     "output_type": "display_data"
    }
   ],
   "source": [
    "top_20_counties = df[\"County\"].value_counts().nlargest(20).index\n",
    "\n",
    "df_top_20 = df[df[\"County\"].isin(top_20_counties)]\n",
    "\n",
    "plt.figure(figsize=(10,6))\n",
    "sns.countplot(data=df_top_20,y=\"County\",order=top_20_counties)\n",
    "plt.title(\"Electric vehicle Manufactured by Country\")\n",
    "plt.xlabel(\"Count\")\n",
    "plt.ylabel(\"County\")\n",
    "plt.show()"
   ]
  },
  {
   "cell_type": "code",
   "execution_count": 43,
   "id": "a6635124",
   "metadata": {
    "execution": {
     "iopub.execute_input": "2024-07-22T20:33:14.392690Z",
     "iopub.status.busy": "2024-07-22T20:33:14.392298Z",
     "iopub.status.idle": "2024-07-22T20:33:14.399868Z",
     "shell.execute_reply": "2024-07-22T20:33:14.398657Z"
    },
    "id": "OU31JyVJ-cdE",
    "outputId": "32858399-abed-4548-97bc-6b003f8a7d8b",
    "papermill": {
     "duration": 0.030953,
     "end_time": "2024-07-22T20:33:14.402283",
     "exception": false,
     "start_time": "2024-07-22T20:33:14.371330",
     "status": "completed"
    },
    "tags": []
   },
   "outputs": [
    {
     "data": {
      "text/plain": [
       "Index(['VIN (1-10)', 'County', 'City', 'State', 'Postal Code', 'Model Year',\n",
       "       'Make', 'Model', 'Electric Vehicle Type',\n",
       "       'Clean Alternative Fuel Vehicle (CAFV) Eligibility', 'Electric Range',\n",
       "       'Base MSRP', 'Legislative District', 'DOL Vehicle ID',\n",
       "       'Vehicle Location', 'Electric Utility', '2020 Census Tract'],\n",
       "      dtype='object')"
      ]
     },
     "execution_count": 43,
     "metadata": {},
     "output_type": "execute_result"
    }
   ],
   "source": [
    "df.columns"
   ]
  },
  {
   "cell_type": "code",
   "execution_count": 44,
   "id": "5ac8b66e",
   "metadata": {
    "execution": {
     "iopub.execute_input": "2024-07-22T20:33:14.444850Z",
     "iopub.status.busy": "2024-07-22T20:33:14.444444Z",
     "iopub.status.idle": "2024-07-22T20:33:14.453866Z",
     "shell.execute_reply": "2024-07-22T20:33:14.452566Z"
    },
    "papermill": {
     "duration": 0.033362,
     "end_time": "2024-07-22T20:33:14.456440",
     "exception": false,
     "start_time": "2024-07-22T20:33:14.423078",
     "status": "completed"
    },
    "tags": []
   },
   "outputs": [
    {
     "data": {
      "text/plain": [
       "0                 Battery Electric Vehicle (BEV)\n",
       "1         Plug-in Hybrid Electric Vehicle (PHEV)\n",
       "2                 Battery Electric Vehicle (BEV)\n",
       "3                 Battery Electric Vehicle (BEV)\n",
       "4         Plug-in Hybrid Electric Vehicle (PHEV)\n",
       "                           ...                  \n",
       "191402            Battery Electric Vehicle (BEV)\n",
       "191403            Battery Electric Vehicle (BEV)\n",
       "191404            Battery Electric Vehicle (BEV)\n",
       "191405            Battery Electric Vehicle (BEV)\n",
       "191406            Battery Electric Vehicle (BEV)\n",
       "Name: Electric Vehicle Type, Length: 191407, dtype: object"
      ]
     },
     "execution_count": 44,
     "metadata": {},
     "output_type": "execute_result"
    }
   ],
   "source": [
    "df[\"Electric Vehicle Type\"]"
   ]
  },
  {
   "cell_type": "code",
   "execution_count": 45,
   "id": "931e6609",
   "metadata": {
    "execution": {
     "iopub.execute_input": "2024-07-22T20:33:14.497101Z",
     "iopub.status.busy": "2024-07-22T20:33:14.496723Z",
     "iopub.status.idle": "2024-07-22T20:33:14.996325Z",
     "shell.execute_reply": "2024-07-22T20:33:14.995066Z"
    },
    "id": "HWG58J3H-eg0",
    "papermill": {
     "duration": 0.522788,
     "end_time": "2024-07-22T20:33:14.999073",
     "exception": false,
     "start_time": "2024-07-22T20:33:14.476285",
     "status": "completed"
    },
    "tags": []
   },
   "outputs": [],
   "source": [
    "df[\"Electric Vehicle Type\"] = df[\"Electric Vehicle Type\"].str.extract(r'\\(([^)]+)\\)')"
   ]
  },
  {
   "cell_type": "code",
   "execution_count": 46,
   "id": "fe0cc01d",
   "metadata": {
    "execution": {
     "iopub.execute_input": "2024-07-22T20:33:15.043041Z",
     "iopub.status.busy": "2024-07-22T20:33:15.042585Z",
     "iopub.status.idle": "2024-07-22T20:33:15.065058Z",
     "shell.execute_reply": "2024-07-22T20:33:15.063764Z"
    },
    "id": "Qd6uUZgN-9j5",
    "outputId": "44caa091-d3f4-447e-833c-baf4e410d481",
    "papermill": {
     "duration": 0.047025,
     "end_time": "2024-07-22T20:33:15.067420",
     "exception": false,
     "start_time": "2024-07-22T20:33:15.020395",
     "status": "completed"
    },
    "tags": []
   },
   "outputs": [
    {
     "data": {
      "text/html": [
       "<div>\n",
       "<style scoped>\n",
       "    .dataframe tbody tr th:only-of-type {\n",
       "        vertical-align: middle;\n",
       "    }\n",
       "\n",
       "    .dataframe tbody tr th {\n",
       "        vertical-align: top;\n",
       "    }\n",
       "\n",
       "    .dataframe thead th {\n",
       "        text-align: right;\n",
       "    }\n",
       "</style>\n",
       "<table border=\"1\" class=\"dataframe\">\n",
       "  <thead>\n",
       "    <tr style=\"text-align: right;\">\n",
       "      <th></th>\n",
       "      <th>VIN (1-10)</th>\n",
       "      <th>County</th>\n",
       "      <th>City</th>\n",
       "      <th>State</th>\n",
       "      <th>Postal Code</th>\n",
       "      <th>Model Year</th>\n",
       "      <th>Make</th>\n",
       "      <th>Model</th>\n",
       "      <th>Electric Vehicle Type</th>\n",
       "      <th>Clean Alternative Fuel Vehicle (CAFV) Eligibility</th>\n",
       "      <th>Electric Range</th>\n",
       "      <th>Base MSRP</th>\n",
       "      <th>Legislative District</th>\n",
       "      <th>DOL Vehicle ID</th>\n",
       "      <th>Vehicle Location</th>\n",
       "      <th>Electric Utility</th>\n",
       "      <th>2020 Census Tract</th>\n",
       "    </tr>\n",
       "  </thead>\n",
       "  <tbody>\n",
       "    <tr>\n",
       "      <th>0</th>\n",
       "      <td>5YJSA1E22K</td>\n",
       "      <td>King</td>\n",
       "      <td>Seattle</td>\n",
       "      <td>WA</td>\n",
       "      <td>98112.0</td>\n",
       "      <td>2019</td>\n",
       "      <td>TESLA</td>\n",
       "      <td>MODEL S</td>\n",
       "      <td>BEV</td>\n",
       "      <td>Clean Alternative Fuel Vehicle Eligible</td>\n",
       "      <td>270</td>\n",
       "      <td>0</td>\n",
       "      <td>43.0</td>\n",
       "      <td>202233958</td>\n",
       "      <td>POINT (-122.300312 47.629782)</td>\n",
       "      <td>CITY OF SEATTLE - (WA)|CITY OF TACOMA - (WA)</td>\n",
       "      <td>5.303301e+10</td>\n",
       "    </tr>\n",
       "    <tr>\n",
       "      <th>1</th>\n",
       "      <td>3MW39FS05R</td>\n",
       "      <td>Yakima</td>\n",
       "      <td>Zillah</td>\n",
       "      <td>WA</td>\n",
       "      <td>98953.0</td>\n",
       "      <td>2024</td>\n",
       "      <td>BMW</td>\n",
       "      <td>330E</td>\n",
       "      <td>PHEV</td>\n",
       "      <td>Not eligible due to low battery range</td>\n",
       "      <td>20</td>\n",
       "      <td>0</td>\n",
       "      <td>15.0</td>\n",
       "      <td>264425178</td>\n",
       "      <td>POINT (-120.2658133 46.4063477)</td>\n",
       "      <td>PACIFICORP</td>\n",
       "      <td>5.307700e+10</td>\n",
       "    </tr>\n",
       "    <tr>\n",
       "      <th>2</th>\n",
       "      <td>1N4AZ0CP0F</td>\n",
       "      <td>King</td>\n",
       "      <td>Kent</td>\n",
       "      <td>WA</td>\n",
       "      <td>98031.0</td>\n",
       "      <td>2015</td>\n",
       "      <td>NISSAN</td>\n",
       "      <td>LEAF</td>\n",
       "      <td>BEV</td>\n",
       "      <td>Clean Alternative Fuel Vehicle Eligible</td>\n",
       "      <td>84</td>\n",
       "      <td>0</td>\n",
       "      <td>11.0</td>\n",
       "      <td>114962025</td>\n",
       "      <td>POINT (-122.201564 47.402358)</td>\n",
       "      <td>PUGET SOUND ENERGY INC||CITY OF TACOMA - (WA)</td>\n",
       "      <td>5.303303e+10</td>\n",
       "    </tr>\n",
       "    <tr>\n",
       "      <th>3</th>\n",
       "      <td>5YJSA1H20F</td>\n",
       "      <td>Snohomish</td>\n",
       "      <td>Bothell</td>\n",
       "      <td>WA</td>\n",
       "      <td>98012.0</td>\n",
       "      <td>2015</td>\n",
       "      <td>TESLA</td>\n",
       "      <td>MODEL S</td>\n",
       "      <td>BEV</td>\n",
       "      <td>Clean Alternative Fuel Vehicle Eligible</td>\n",
       "      <td>208</td>\n",
       "      <td>0</td>\n",
       "      <td>1.0</td>\n",
       "      <td>232724670</td>\n",
       "      <td>POINT (-122.206146 47.839957)</td>\n",
       "      <td>PUGET SOUND ENERGY INC</td>\n",
       "      <td>5.306105e+10</td>\n",
       "    </tr>\n",
       "    <tr>\n",
       "      <th>4</th>\n",
       "      <td>JTMAB3FV1N</td>\n",
       "      <td>Yakima</td>\n",
       "      <td>Yakima</td>\n",
       "      <td>WA</td>\n",
       "      <td>98908.0</td>\n",
       "      <td>2022</td>\n",
       "      <td>TOYOTA</td>\n",
       "      <td>RAV4 PRIME</td>\n",
       "      <td>PHEV</td>\n",
       "      <td>Clean Alternative Fuel Vehicle Eligible</td>\n",
       "      <td>42</td>\n",
       "      <td>0</td>\n",
       "      <td>14.0</td>\n",
       "      <td>221023589</td>\n",
       "      <td>POINT (-120.611068 46.596645)</td>\n",
       "      <td>PACIFICORP</td>\n",
       "      <td>5.307700e+10</td>\n",
       "    </tr>\n",
       "  </tbody>\n",
       "</table>\n",
       "</div>"
      ],
      "text/plain": [
       "   VIN (1-10)     County     City State  Postal Code  Model Year    Make  \\\n",
       "0  5YJSA1E22K       King  Seattle    WA      98112.0        2019   TESLA   \n",
       "1  3MW39FS05R     Yakima   Zillah    WA      98953.0        2024     BMW   \n",
       "2  1N4AZ0CP0F       King     Kent    WA      98031.0        2015  NISSAN   \n",
       "3  5YJSA1H20F  Snohomish  Bothell    WA      98012.0        2015   TESLA   \n",
       "4  JTMAB3FV1N     Yakima   Yakima    WA      98908.0        2022  TOYOTA   \n",
       "\n",
       "        Model Electric Vehicle Type  \\\n",
       "0     MODEL S                   BEV   \n",
       "1        330E                  PHEV   \n",
       "2        LEAF                   BEV   \n",
       "3     MODEL S                   BEV   \n",
       "4  RAV4 PRIME                  PHEV   \n",
       "\n",
       "  Clean Alternative Fuel Vehicle (CAFV) Eligibility  Electric Range  \\\n",
       "0           Clean Alternative Fuel Vehicle Eligible             270   \n",
       "1             Not eligible due to low battery range              20   \n",
       "2           Clean Alternative Fuel Vehicle Eligible              84   \n",
       "3           Clean Alternative Fuel Vehicle Eligible             208   \n",
       "4           Clean Alternative Fuel Vehicle Eligible              42   \n",
       "\n",
       "   Base MSRP  Legislative District  DOL Vehicle ID  \\\n",
       "0          0                  43.0       202233958   \n",
       "1          0                  15.0       264425178   \n",
       "2          0                  11.0       114962025   \n",
       "3          0                   1.0       232724670   \n",
       "4          0                  14.0       221023589   \n",
       "\n",
       "                  Vehicle Location  \\\n",
       "0    POINT (-122.300312 47.629782)   \n",
       "1  POINT (-120.2658133 46.4063477)   \n",
       "2    POINT (-122.201564 47.402358)   \n",
       "3    POINT (-122.206146 47.839957)   \n",
       "4    POINT (-120.611068 46.596645)   \n",
       "\n",
       "                                Electric Utility  2020 Census Tract  \n",
       "0   CITY OF SEATTLE - (WA)|CITY OF TACOMA - (WA)       5.303301e+10  \n",
       "1                                     PACIFICORP       5.307700e+10  \n",
       "2  PUGET SOUND ENERGY INC||CITY OF TACOMA - (WA)       5.303303e+10  \n",
       "3                         PUGET SOUND ENERGY INC       5.306105e+10  \n",
       "4                                     PACIFICORP       5.307700e+10  "
      ]
     },
     "execution_count": 46,
     "metadata": {},
     "output_type": "execute_result"
    }
   ],
   "source": [
    "df.head()"
   ]
  },
  {
   "cell_type": "code",
   "execution_count": 47,
   "id": "e3ebf781",
   "metadata": {
    "execution": {
     "iopub.execute_input": "2024-07-22T20:33:15.108250Z",
     "iopub.status.busy": "2024-07-22T20:33:15.107861Z",
     "iopub.status.idle": "2024-07-22T20:33:15.146309Z",
     "shell.execute_reply": "2024-07-22T20:33:15.144948Z"
    },
    "id": "MgdEPCie_jQn",
    "papermill": {
     "duration": 0.062305,
     "end_time": "2024-07-22T20:33:15.149177",
     "exception": false,
     "start_time": "2024-07-22T20:33:15.086872",
     "status": "completed"
    },
    "tags": []
   },
   "outputs": [],
   "source": [
    "df[\"Electric Range\"].sort_values().unique()\n",
    "\n",
    "df = df[df[\"Electric Range\"]>0]"
   ]
  },
  {
   "cell_type": "code",
   "execution_count": 48,
   "id": "336c5e06",
   "metadata": {
    "execution": {
     "iopub.execute_input": "2024-07-22T20:33:15.191274Z",
     "iopub.status.busy": "2024-07-22T20:33:15.190874Z",
     "iopub.status.idle": "2024-07-22T20:33:15.967318Z",
     "shell.execute_reply": "2024-07-22T20:33:15.966167Z"
    },
    "id": "0NbAgPwK7g_K",
    "outputId": "b062fc89-cd55-49bc-caf3-bcf994296d19",
    "papermill": {
     "duration": 0.8006,
     "end_time": "2024-07-22T20:33:15.969935",
     "exception": false,
     "start_time": "2024-07-22T20:33:15.169335",
     "status": "completed"
    },
    "tags": []
   },
   "outputs": [
    {
     "name": "stderr",
     "output_type": "stream",
     "text": [
      "/opt/conda/lib/python3.10/site-packages/seaborn/_oldcore.py:1119: FutureWarning: use_inf_as_na option is deprecated and will be removed in a future version. Convert inf values to NaN before operating instead.\n",
      "  with pd.option_context('mode.use_inf_as_na', True):\n"
     ]
    },
    {
     "data": {
      "image/png": "[encoded data removed]",
      "text/plain": [
       "<Figure size 1000x600 with 1 Axes>"
      ]
     },
     "metadata": {},
     "output_type": "display_data"
    }
   ],
   "source": [
    "plt.figure(figsize=(10,6))\n",
    "plt.title('Electric Range Distribution')\n",
    "sns.histplot(df['Electric Range'], kde=True)\n",
    "plt.show()\n"
   ]
  },
  {
   "cell_type": "code",
   "execution_count": 49,
   "id": "d4acd8fc",
   "metadata": {
    "execution": {
     "iopub.execute_input": "2024-07-22T20:33:16.013105Z",
     "iopub.status.busy": "2024-07-22T20:33:16.012728Z",
     "iopub.status.idle": "2024-07-22T20:33:25.715936Z",
     "shell.execute_reply": "2024-07-22T20:33:25.714471Z"
    },
    "id": "xsFEUJCu76vD",
    "outputId": "1c18638f-3c50-4c79-f205-318dfea58762",
    "papermill": {
     "duration": 9.728749,
     "end_time": "2024-07-22T20:33:25.719210",
     "exception": false,
     "start_time": "2024-07-22T20:33:15.990461",
     "status": "completed"
    },
    "tags": []
   },
   "outputs": [
    {
     "data": {
      "image/png": "[encoded data removed]",
      "text/plain": [
       "<Figure size 1000x600 with 1 Axes>"
      ]
     },
     "metadata": {},
     "output_type": "display_data"
    }
   ],
   "source": [
    "plt.figure(figsize=(10,6))\n",
    "plt.title(\"Electric Range changes across the years\")\n",
    "sns.regplot(data=df,x=\"Model Year\",y=\"Electric Range\")\n",
    "plt.show()\n",
    "\n",
    "# regplot ----> Plot data and a linear regression model fit."
   ]
  },
  {
   "cell_type": "code",
   "execution_count": 50,
   "id": "0381b2d8",
   "metadata": {
    "execution": {
     "iopub.execute_input": "2024-07-22T20:33:25.768707Z",
     "iopub.status.busy": "2024-07-22T20:33:25.768302Z",
     "iopub.status.idle": "2024-07-22T20:33:25.776198Z",
     "shell.execute_reply": "2024-07-22T20:33:25.774992Z"
    },
    "id": "D4y3ZyfbAkFs",
    "outputId": "152e8a76-5742-4261-a19b-126790c3e334",
    "papermill": {
     "duration": 0.035324,
     "end_time": "2024-07-22T20:33:25.779078",
     "exception": false,
     "start_time": "2024-07-22T20:33:25.743754",
     "status": "completed"
    },
    "tags": []
   },
   "outputs": [
    {
     "data": {
      "text/plain": [
       "Index(['VIN (1-10)', 'County', 'City', 'State', 'Postal Code', 'Model Year',\n",
       "       'Make', 'Model', 'Electric Vehicle Type',\n",
       "       'Clean Alternative Fuel Vehicle (CAFV) Eligibility', 'Electric Range',\n",
       "       'Base MSRP', 'Legislative District', 'DOL Vehicle ID',\n",
       "       'Vehicle Location', 'Electric Utility', '2020 Census Tract'],\n",
       "      dtype='object')"
      ]
     },
     "execution_count": 50,
     "metadata": {},
     "output_type": "execute_result"
    }
   ],
   "source": [
    "df.columns"
   ]
  },
  {
   "cell_type": "code",
   "execution_count": 51,
   "id": "136b0c7f",
   "metadata": {
    "execution": {
     "iopub.execute_input": "2024-07-22T20:33:25.826184Z",
     "iopub.status.busy": "2024-07-22T20:33:25.825773Z",
     "iopub.status.idle": "2024-07-22T20:33:25.867977Z",
     "shell.execute_reply": "2024-07-22T20:33:25.866131Z"
    },
    "id": "HVNgJX6hBBMI",
    "outputId": "f607f6e4-4427-41c2-d808-cd13a2f07f77",
    "papermill": {
     "duration": 0.068643,
     "end_time": "2024-07-22T20:33:25.870883",
     "exception": false,
     "start_time": "2024-07-22T20:33:25.802240",
     "status": "completed"
    },
    "tags": []
   },
   "outputs": [
    {
     "data": {
      "text/html": [
       "<div>\n",
       "<style scoped>\n",
       "    .dataframe tbody tr th:only-of-type {\n",
       "        vertical-align: middle;\n",
       "    }\n",
       "\n",
       "    .dataframe tbody tr th {\n",
       "        vertical-align: top;\n",
       "    }\n",
       "\n",
       "    .dataframe thead th {\n",
       "        text-align: right;\n",
       "    }\n",
       "</style>\n",
       "<table border=\"1\" class=\"dataframe\">\n",
       "  <thead>\n",
       "    <tr style=\"text-align: right;\">\n",
       "      <th></th>\n",
       "      <th>VIN (1-10)</th>\n",
       "      <th>County</th>\n",
       "      <th>City</th>\n",
       "      <th>State</th>\n",
       "      <th>Postal Code</th>\n",
       "      <th>Model Year</th>\n",
       "      <th>Make</th>\n",
       "      <th>Model</th>\n",
       "      <th>Electric Vehicle Type</th>\n",
       "      <th>Clean Alternative Fuel Vehicle (CAFV) Eligibility</th>\n",
       "      <th>Electric Range</th>\n",
       "      <th>Base MSRP</th>\n",
       "      <th>Legislative District</th>\n",
       "      <th>DOL Vehicle ID</th>\n",
       "      <th>Vehicle Location</th>\n",
       "      <th>Electric Utility</th>\n",
       "      <th>2020 Census Tract</th>\n",
       "      <th>Models per make</th>\n",
       "    </tr>\n",
       "  </thead>\n",
       "  <tbody>\n",
       "    <tr>\n",
       "      <th>0</th>\n",
       "      <td>5YJSA1E22K</td>\n",
       "      <td>King</td>\n",
       "      <td>Seattle</td>\n",
       "      <td>WA</td>\n",
       "      <td>98112.0</td>\n",
       "      <td>2019</td>\n",
       "      <td>TESLA</td>\n",
       "      <td>MODEL S</td>\n",
       "      <td>BEV</td>\n",
       "      <td>Clean Alternative Fuel Vehicle Eligible</td>\n",
       "      <td>270</td>\n",
       "      <td>0</td>\n",
       "      <td>43.0</td>\n",
       "      <td>202233958</td>\n",
       "      <td>POINT (-122.300312 47.629782)</td>\n",
       "      <td>CITY OF SEATTLE - (WA)|CITY OF TACOMA - (WA)</td>\n",
       "      <td>5.303301e+10</td>\n",
       "      <td>5</td>\n",
       "    </tr>\n",
       "    <tr>\n",
       "      <th>1</th>\n",
       "      <td>3MW39FS05R</td>\n",
       "      <td>Yakima</td>\n",
       "      <td>Zillah</td>\n",
       "      <td>WA</td>\n",
       "      <td>98953.0</td>\n",
       "      <td>2024</td>\n",
       "      <td>BMW</td>\n",
       "      <td>330E</td>\n",
       "      <td>PHEV</td>\n",
       "      <td>Not eligible due to low battery range</td>\n",
       "      <td>20</td>\n",
       "      <td>0</td>\n",
       "      <td>15.0</td>\n",
       "      <td>264425178</td>\n",
       "      <td>POINT (-120.2658133 46.4063477)</td>\n",
       "      <td>PACIFICORP</td>\n",
       "      <td>5.307700e+10</td>\n",
       "      <td>11</td>\n",
       "    </tr>\n",
       "    <tr>\n",
       "      <th>2</th>\n",
       "      <td>1N4AZ0CP0F</td>\n",
       "      <td>King</td>\n",
       "      <td>Kent</td>\n",
       "      <td>WA</td>\n",
       "      <td>98031.0</td>\n",
       "      <td>2015</td>\n",
       "      <td>NISSAN</td>\n",
       "      <td>LEAF</td>\n",
       "      <td>BEV</td>\n",
       "      <td>Clean Alternative Fuel Vehicle Eligible</td>\n",
       "      <td>84</td>\n",
       "      <td>0</td>\n",
       "      <td>11.0</td>\n",
       "      <td>114962025</td>\n",
       "      <td>POINT (-122.201564 47.402358)</td>\n",
       "      <td>PUGET SOUND ENERGY INC||CITY OF TACOMA - (WA)</td>\n",
       "      <td>5.303303e+10</td>\n",
       "      <td>1</td>\n",
       "    </tr>\n",
       "    <tr>\n",
       "      <th>3</th>\n",
       "      <td>5YJSA1H20F</td>\n",
       "      <td>Snohomish</td>\n",
       "      <td>Bothell</td>\n",
       "      <td>WA</td>\n",
       "      <td>98012.0</td>\n",
       "      <td>2015</td>\n",
       "      <td>TESLA</td>\n",
       "      <td>MODEL S</td>\n",
       "      <td>BEV</td>\n",
       "      <td>Clean Alternative Fuel Vehicle Eligible</td>\n",
       "      <td>208</td>\n",
       "      <td>0</td>\n",
       "      <td>1.0</td>\n",
       "      <td>232724670</td>\n",
       "      <td>POINT (-122.206146 47.839957)</td>\n",
       "      <td>PUGET SOUND ENERGY INC</td>\n",
       "      <td>5.306105e+10</td>\n",
       "      <td>5</td>\n",
       "    </tr>\n",
       "    <tr>\n",
       "      <th>4</th>\n",
       "      <td>JTMAB3FV1N</td>\n",
       "      <td>Yakima</td>\n",
       "      <td>Yakima</td>\n",
       "      <td>WA</td>\n",
       "      <td>98908.0</td>\n",
       "      <td>2022</td>\n",
       "      <td>TOYOTA</td>\n",
       "      <td>RAV4 PRIME</td>\n",
       "      <td>PHEV</td>\n",
       "      <td>Clean Alternative Fuel Vehicle Eligible</td>\n",
       "      <td>42</td>\n",
       "      <td>0</td>\n",
       "      <td>14.0</td>\n",
       "      <td>221023589</td>\n",
       "      <td>POINT (-120.611068 46.596645)</td>\n",
       "      <td>PACIFICORP</td>\n",
       "      <td>5.307700e+10</td>\n",
       "      <td>4</td>\n",
       "    </tr>\n",
       "  </tbody>\n",
       "</table>\n",
       "</div>"
      ],
      "text/plain": [
       "   VIN (1-10)     County     City State  Postal Code  Model Year    Make  \\\n",
       "0  5YJSA1E22K       King  Seattle    WA      98112.0        2019   TESLA   \n",
       "1  3MW39FS05R     Yakima   Zillah    WA      98953.0        2024     BMW   \n",
       "2  1N4AZ0CP0F       King     Kent    WA      98031.0        2015  NISSAN   \n",
       "3  5YJSA1H20F  Snohomish  Bothell    WA      98012.0        2015   TESLA   \n",
       "4  JTMAB3FV1N     Yakima   Yakima    WA      98908.0        2022  TOYOTA   \n",
       "\n",
       "        Model Electric Vehicle Type  \\\n",
       "0     MODEL S                   BEV   \n",
       "1        330E                  PHEV   \n",
       "2        LEAF                   BEV   \n",
       "3     MODEL S                   BEV   \n",
       "4  RAV4 PRIME                  PHEV   \n",
       "\n",
       "  Clean Alternative Fuel Vehicle (CAFV) Eligibility  Electric Range  \\\n",
       "0           Clean Alternative Fuel Vehicle Eligible             270   \n",
       "1             Not eligible due to low battery range              20   \n",
       "2           Clean Alternative Fuel Vehicle Eligible              84   \n",
       "3           Clean Alternative Fuel Vehicle Eligible             208   \n",
       "4           Clean Alternative Fuel Vehicle Eligible              42   \n",
       "\n",
       "   Base MSRP  Legislative District  DOL Vehicle ID  \\\n",
       "0          0                  43.0       202233958   \n",
       "1          0                  15.0       264425178   \n",
       "2          0                  11.0       114962025   \n",
       "3          0                   1.0       232724670   \n",
       "4          0                  14.0       221023589   \n",
       "\n",
       "                  Vehicle Location  \\\n",
       "0    POINT (-122.300312 47.629782)   \n",
       "1  POINT (-120.2658133 46.4063477)   \n",
       "2    POINT (-122.201564 47.402358)   \n",
       "3    POINT (-122.206146 47.839957)   \n",
       "4    POINT (-120.611068 46.596645)   \n",
       "\n",
       "                                Electric Utility  2020 Census Tract  \\\n",
       "0   CITY OF SEATTLE - (WA)|CITY OF TACOMA - (WA)       5.303301e+10   \n",
       "1                                     PACIFICORP       5.307700e+10   \n",
       "2  PUGET SOUND ENERGY INC||CITY OF TACOMA - (WA)       5.303303e+10   \n",
       "3                         PUGET SOUND ENERGY INC       5.306105e+10   \n",
       "4                                     PACIFICORP       5.307700e+10   \n",
       "\n",
       "   Models per make  \n",
       "0                5  \n",
       "1               11  \n",
       "2                1  \n",
       "3                5  \n",
       "4                4  "
      ]
     },
     "execution_count": 51,
     "metadata": {},
     "output_type": "execute_result"
    }
   ],
   "source": [
    "df[\"Models per make\"] = df.groupby('Make')[\"Model\"].transform(\"nunique\")\n",
    "df.head()"
   ]
  },
  {
   "cell_type": "code",
   "execution_count": 52,
   "id": "feffa5e8",
   "metadata": {
    "execution": {
     "iopub.execute_input": "2024-07-22T20:33:25.917645Z",
     "iopub.status.busy": "2024-07-22T20:33:25.917236Z",
     "iopub.status.idle": "2024-07-22T20:33:25.923547Z",
     "shell.execute_reply": "2024-07-22T20:33:25.922427Z"
    },
    "id": "hD4yJK_0BRAO",
    "papermill": {
     "duration": 0.032371,
     "end_time": "2024-07-22T20:33:25.925997",
     "exception": false,
     "start_time": "2024-07-22T20:33:25.893626",
     "status": "completed"
    },
    "tags": []
   },
   "outputs": [],
   "source": [
    "def top_make(data, sort_by, top_n):\n",
    "\n",
    "  grouped = df.groupby(\"Make\")[\"Electric Range\"].agg([\"count\",\"mean\"]).reset_index()\n",
    "\n",
    "  sorted_grouped = grouped.sort_values(by=sort_by,ascending=False)\n",
    "\n",
    "  return sorted_grouped.head(top_n)"
   ]
  },
  {
   "cell_type": "code",
   "execution_count": 53,
   "id": "0a2a7961",
   "metadata": {
    "execution": {
     "iopub.execute_input": "2024-07-22T20:33:25.974707Z",
     "iopub.status.busy": "2024-07-22T20:33:25.974197Z",
     "iopub.status.idle": "2024-07-22T20:33:27.674713Z",
     "shell.execute_reply": "2024-07-22T20:33:27.673157Z"
    },
    "id": "-uXaU9faB7EP",
    "outputId": "d0df5f89-0ef3-44bb-ad42-1c47f3ca7387",
    "papermill": {
     "duration": 1.728306,
     "end_time": "2024-07-22T20:33:27.677635",
     "exception": false,
     "start_time": "2024-07-22T20:33:25.949329",
     "status": "completed"
    },
    "tags": []
   },
   "outputs": [
    {
     "name": "stderr",
     "output_type": "stream",
     "text": [
      "/opt/conda/lib/python3.10/site-packages/seaborn/_oldcore.py:1119: FutureWarning: use_inf_as_na option is deprecated and will be removed in a future version. Convert inf values to NaN before operating instead.\n",
      "  with pd.option_context('mode.use_inf_as_na', True):\n"
     ]
    },
    {
     "data": {
      "image/png": "[encoded data removed]",
      "text/plain": [
       "<Figure size 1000x600 with 1 Axes>"
      ]
     },
     "metadata": {},
     "output_type": "display_data"
    },
    {
     "name": "stderr",
     "output_type": "stream",
     "text": [
      "/opt/conda/lib/python3.10/site-packages/seaborn/_oldcore.py:1119: FutureWarning: use_inf_as_na option is deprecated and will be removed in a future version. Convert inf values to NaN before operating instead.\n",
      "  with pd.option_context('mode.use_inf_as_na', True):\n"
     ]
    },
    {
     "data": {
      "image/png": "[encoded data removed]",
      "text/plain": [
       "<Figure size 1000x600 with 1 Axes>"
      ]
     },
     "metadata": {},
     "output_type": "display_data"
    },
    {
     "name": "stderr",
     "output_type": "stream",
     "text": [
      "/opt/conda/lib/python3.10/site-packages/seaborn/_oldcore.py:1119: FutureWarning: use_inf_as_na option is deprecated and will be removed in a future version. Convert inf values to NaN before operating instead.\n",
      "  with pd.option_context('mode.use_inf_as_na', True):\n"
     ]
    },
    {
     "data": {
      "image/png": "[encoded data removed]",
      "text/plain": [
       "<Figure size 1000x600 with 1 Axes>"
      ]
     },
     "metadata": {},
     "output_type": "display_data"
    },
    {
     "name": "stderr",
     "output_type": "stream",
     "text": [
      "/opt/conda/lib/python3.10/site-packages/seaborn/_oldcore.py:1119: FutureWarning: use_inf_as_na option is deprecated and will be removed in a future version. Convert inf values to NaN before operating instead.\n",
      "  with pd.option_context('mode.use_inf_as_na', True):\n"
     ]
    },
    {
     "data": {
      "image/png": "[encoded data removed]",
      "text/plain": [
       "<Figure size 1000x600 with 1 Axes>"
      ]
     },
     "metadata": {},
     "output_type": "display_data"
    },
    {
     "name": "stderr",
     "output_type": "stream",
     "text": [
      "/opt/conda/lib/python3.10/site-packages/seaborn/_oldcore.py:1119: FutureWarning: use_inf_as_na option is deprecated and will be removed in a future version. Convert inf values to NaN before operating instead.\n",
      "  with pd.option_context('mode.use_inf_as_na', True):\n"
     ]
    },
    {
     "data": {
      "image/png": "[encoded data removed]",
      "text/plain": [
       "<Figure size 1000x600 with 1 Axes>"
      ]
     },
     "metadata": {},
     "output_type": "display_data"
    }
   ],
   "source": [
    "top_5_make = top_make(df[df['Models per make']>1],'mean',5)[\"Make\"]\n",
    "\n",
    "for make in top_5_make:\n",
    "  data = df[df[\"Make\"]== make]\n",
    "  plt.figure(figsize=(10,6))\n",
    "  plt.title(f\"{make} Electric Range Distribution\")\n",
    "  sns.histplot(data=data, x=\"Electric Range\",kde=True)\n",
    "  plt.show()"
   ]
  }
 ],
 "metadata": {
  "colab": {
   "provenance": []
  },
  "kaggle": {
   "accelerator": "none",
   "dataSources": [
    {
     "datasetId": 5405844,
     "sourceId": 8977796,
     "sourceType": "datasetVersion"
    }
   ],
   "dockerImageVersionId": 30746,
   "isGpuEnabled": false,
   "isInternetEnabled": true,
   "language": "python",
   "sourceType": "notebook"
  },
  "kernelspec": {
   "display_name": "Python 3",
   "language": "python",
   "name": "python3"
  },
  "language_info": {
   "codemirror_mode": {
    "name": "ipython",
    "version": 3
   },
   "file_extension": ".py",
   "mimetype": "text/x-python",
   "name": "python",
   "nbconvert_exporter": "python",
   "pygments_lexer": "ipython3",
   "version": "3.10.13"
  },
  "papermill": {
   "default_parameters": {},
   "duration": 27.117467,
   "end_time": "2024-07-22T20:33:28.426877",
   "environment_variables": {},
   "exception": null,
   "input_path": "__notebook__.ipynb",
   "output_path": "__notebook__.ipynb",
   "parameters": {},
   "start_time": "2024-07-22T20:33:01.309410",
   "version": "2.5.0"
  }
 },
 "nbformat": 4,
 "nbformat_minor": 5
}
